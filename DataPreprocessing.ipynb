{
 "cells": [
  {
   "cell_type": "code",
   "execution_count": 1,
   "id": "747efe78",
   "metadata": {
    "_cell_guid": "b1076dfc-b9ad-4769-8c92-a6c4dae69d19",
    "_uuid": "8f2839f25d086af736a60e9eeb907d3b93b6e0e5",
    "execution": {
     "iopub.execute_input": "2023-05-23T13:41:10.711269Z",
     "iopub.status.busy": "2023-05-23T13:41:10.710762Z",
     "iopub.status.idle": "2023-05-23T13:41:10.751049Z",
     "shell.execute_reply": "2023-05-23T13:41:10.749883Z"
    },
    "papermill": {
     "duration": 0.049107,
     "end_time": "2023-05-23T13:41:10.754284",
     "exception": false,
     "start_time": "2023-05-23T13:41:10.705177",
     "status": "completed"
    },
    "tags": []
   },
   "outputs": [
    {
     "name": "stdout",
     "output_type": "stream",
     "text": [
      "/kaggle/input/lending-club/rejected_2007_to_2018Q4.csv.gz\n",
      "/kaggle/input/lending-club/accepted_2007_to_2018Q4.csv.gz\n",
      "/kaggle/input/lending-club/accepted_2007_to_2018q4.csv/accepted_2007_to_2018Q4.csv\n",
      "/kaggle/input/lending-club/rejected_2007_to_2018q4.csv/rejected_2007_to_2018Q4.csv\n"
     ]
    }
   ],
   "source": [
    "# This Python 3 environment comes with many helpful analytics libraries installed\n",
    "# It is defined by the kaggle/python Docker image: https://github.com/kaggle/docker-python\n",
    "# For example, here's several helpful packages to load\n",
    "\n",
    "import numpy as np # linear algebra\n",
    "import pandas as pd # data processing, CSV file I/O (e.g. pd.read_csv)\n",
    "\n",
    "# Input data files are available in the read-only \"../input/\" directory\n",
    "# For example, running this (by clicking run or pressing Shift+Enter) will list all files under the input directory\n",
    "\n",
    "import os\n",
    "for dirname, _, filenames in os.walk('/kaggle/input'):\n",
    "    for filename in filenames:\n",
    "        print(os.path.join(dirname, filename))\n",
    "\n",
    "# You can write up to 20GB to the current directory (/kaggle/working/) that gets preserved as output when you create a version using \"Save & Run All\" \n",
    "# You can also write temporary files to /kaggle/temp/, but they won't be saved outside of the current session"
   ]
  },
  {
   "cell_type": "code",
   "execution_count": 2,
   "id": "9f104d61",
   "metadata": {
    "execution": {
     "iopub.execute_input": "2023-05-23T13:41:10.765075Z",
     "iopub.status.busy": "2023-05-23T13:41:10.764592Z",
     "iopub.status.idle": "2023-05-23T13:41:21.401114Z",
     "shell.execute_reply": "2023-05-23T13:41:21.399614Z"
    },
    "papermill": {
     "duration": 10.64414,
     "end_time": "2023-05-23T13:41:21.404140",
     "exception": false,
     "start_time": "2023-05-23T13:41:10.760000",
     "status": "completed"
    },
    "tags": []
   },
   "outputs": [
    {
     "name": "stderr",
     "output_type": "stream",
     "text": [
      "/opt/conda/lib/python3.10/site-packages/scipy/__init__.py:146: UserWarning: A NumPy version >=1.16.5 and <1.23.0 is required for this version of SciPy (detected version 1.23.5\n",
      "  warnings.warn(f\"A NumPy version >={np_minversion} and <{np_maxversion}\"\n"
     ]
    }
   ],
   "source": [
    "import pandas as pd\n",
    "import numpy as np\n",
    "import matplotlib.pyplot as plt\n",
    "import seaborn as sns\n",
    "\n",
    "from sklearn.model_selection import train_test_split, RandomizedSearchCV\n",
    "from sklearn.preprocessing import MinMaxScaler\n",
    "\n",
    "from keras.models import Sequential\n",
    "from keras.layers import Dense, Dropout"
   ]
  },
  {
   "cell_type": "code",
   "execution_count": 3,
   "id": "ef924e7f",
   "metadata": {
    "execution": {
     "iopub.execute_input": "2023-05-23T13:41:21.413184Z",
     "iopub.status.busy": "2023-05-23T13:41:21.412170Z",
     "iopub.status.idle": "2023-05-23T13:42:44.538009Z",
     "shell.execute_reply": "2023-05-23T13:42:44.536617Z"
    },
    "papermill": {
     "duration": 83.133774,
     "end_time": "2023-05-23T13:42:44.541266",
     "exception": false,
     "start_time": "2023-05-23T13:41:21.407492",
     "status": "completed"
    },
    "tags": []
   },
   "outputs": [
    {
     "name": "stderr",
     "output_type": "stream",
     "text": [
      "/tmp/ipykernel_20/2264426951.py:1: DtypeWarning: Columns (0,19,49,59,118,129,130,131,134,135,136,139,145,146,147) have mixed types. Specify dtype option on import or set low_memory=False.\n",
      "  accepted_loans = pd.read_csv('/kaggle/input/lending-club/accepted_2007_to_2018q4.csv/accepted_2007_to_2018Q4.csv')\n"
     ]
    }
   ],
   "source": [
    "accepted_loans = pd.read_csv('/kaggle/input/lending-club/accepted_2007_to_2018q4.csv/accepted_2007_to_2018Q4.csv')"
   ]
  },
  {
   "cell_type": "code",
   "execution_count": 4,
   "id": "487e6b05",
   "metadata": {
    "execution": {
     "iopub.execute_input": "2023-05-23T13:42:44.550139Z",
     "iopub.status.busy": "2023-05-23T13:42:44.549630Z",
     "iopub.status.idle": "2023-05-23T13:42:44.594099Z",
     "shell.execute_reply": "2023-05-23T13:42:44.592252Z"
    },
    "papermill": {
     "duration": 0.052384,
     "end_time": "2023-05-23T13:42:44.597060",
     "exception": false,
     "start_time": "2023-05-23T13:42:44.544676",
     "status": "completed"
    },
    "tags": []
   },
   "outputs": [
    {
     "name": "stdout",
     "output_type": "stream",
     "text": [
      "<class 'pandas.core.frame.DataFrame'>\n",
      "RangeIndex: 2260701 entries, 0 to 2260700\n",
      "Columns: 151 entries, id to settlement_term\n",
      "dtypes: float64(113), object(38)\n",
      "memory usage: 2.5+ GB\n"
     ]
    }
   ],
   "source": [
    "accepted_loans.info()"
   ]
  },
  {
   "cell_type": "code",
   "execution_count": null,
   "id": "723dde82",
   "metadata": {
    "papermill": {
     "duration": 0.002889,
     "end_time": "2023-05-23T13:42:44.603283",
     "exception": false,
     "start_time": "2023-05-23T13:42:44.600394",
     "status": "completed"
    },
    "tags": []
   },
   "outputs": [],
   "source": []
  }
 ],
 "metadata": {
  "kernelspec": {
   "display_name": "Python 3",
   "language": "python",
   "name": "python3"
  },
  "language_info": {
   "codemirror_mode": {
    "name": "ipython",
    "version": 3
   },
   "file_extension": ".py",
   "mimetype": "text/x-python",
   "name": "python",
   "nbconvert_exporter": "python",
   "pygments_lexer": "ipython3",
   "version": "3.10.10"
  },
  "papermill": {
   "default_parameters": {},
   "duration": 113.026795,
   "end_time": "2023-05-23T13:42:47.774256",
   "environment_variables": {},
   "exception": null,
   "input_path": "__notebook__.ipynb",
   "output_path": "__notebook__.ipynb",
   "parameters": {},
   "start_time": "2023-05-23T13:40:54.747461",
   "version": "2.4.0"
  }
 },
 "nbformat": 4,
 "nbformat_minor": 5
}
