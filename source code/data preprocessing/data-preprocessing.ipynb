{
 "cells": [
  {
   "cell_type": "code",
   "execution_count": 1,
   "id": "5a130534",
   "metadata": {
    "_cell_guid": "b1076dfc-b9ad-4769-8c92-a6c4dae69d19",
    "_uuid": "8f2839f25d086af736a60e9eeb907d3b93b6e0e5",
    "execution": {
     "iopub.execute_input": "2023-05-25T04:27:07.017397Z",
     "iopub.status.busy": "2023-05-25T04:27:07.016530Z",
     "iopub.status.idle": "2023-05-25T04:27:07.043981Z",
     "shell.execute_reply": "2023-05-25T04:27:07.042835Z"
    },
    "papermill": {
     "duration": 0.049877,
     "end_time": "2023-05-25T04:27:07.046450",
     "exception": false,
     "start_time": "2023-05-25T04:27:06.996573",
     "status": "completed"
    },
    "tags": []
   },
   "outputs": [
    {
     "name": "stdout",
     "output_type": "stream",
     "text": [
      "/kaggle/input/lending-club/rejected_2007_to_2018Q4.csv.gz\n",
      "/kaggle/input/lending-club/accepted_2007_to_2018Q4.csv.gz\n",
      "/kaggle/input/lending-club/accepted_2007_to_2018q4.csv/accepted_2007_to_2018Q4.csv\n",
      "/kaggle/input/lending-club/rejected_2007_to_2018q4.csv/rejected_2007_to_2018Q4.csv\n"
     ]
    }
   ],
   "source": [
    "# This Python 3 environment comes with many helpful analytics libraries installed\n",
    "# It is defined by the kaggle/python Docker image: https://github.com/kaggle/docker-python\n",
    "# For example, here's several helpful packages to load\n",
    "\n",
    "import numpy as np # linear algebra\n",
    "import pandas as pd # data processing, CSV file I/O (e.g. pd.read_csv)\n",
    "\n",
    "# Input data files are available in the read-only \"../input/\" directory\n",
    "# For example, running this (by clicking run or pressing Shift+Enter) will list all files under the input directory\n",
    "\n",
    "import os\n",
    "for dirname, _, filenames in os.walk('/kaggle/input'):\n",
    "    for filename in filenames:\n",
    "        print(os.path.join(dirname, filename))\n",
    "\n",
    "# You can write up to 20GB to the current directory (/kaggle/working/) that gets preserved as output when you create a version using \"Save & Run All\" \n",
    "# You can also write temporary files to /kaggle/temp/, but they won't be saved outside of the current session"
   ]
  },
  {
   "cell_type": "markdown",
   "id": "5fcd22ea",
   "metadata": {
    "papermill": {
     "duration": 0.015414,
     "end_time": "2023-05-25T04:27:07.078821",
     "exception": false,
     "start_time": "2023-05-25T04:27:07.063407",
     "status": "completed"
    },
    "tags": []
   },
   "source": [
    "# IMPORTING DATA"
   ]
  },
  {
   "cell_type": "code",
   "execution_count": 2,
   "id": "466efa59",
   "metadata": {
    "execution": {
     "iopub.execute_input": "2023-05-25T04:27:07.112176Z",
     "iopub.status.busy": "2023-05-25T04:27:07.111526Z",
     "iopub.status.idle": "2023-05-25T04:27:15.696467Z",
     "shell.execute_reply": "2023-05-25T04:27:15.695578Z"
    },
    "papermill": {
     "duration": 8.604426,
     "end_time": "2023-05-25T04:27:15.698933",
     "exception": false,
     "start_time": "2023-05-25T04:27:07.094507",
     "status": "completed"
    },
    "tags": []
   },
   "outputs": [
    {
     "name": "stderr",
     "output_type": "stream",
     "text": [
      "/opt/conda/lib/python3.10/site-packages/scipy/__init__.py:146: UserWarning: A NumPy version >=1.16.5 and <1.23.0 is required for this version of SciPy (detected version 1.23.5\n",
      "  warnings.warn(f\"A NumPy version >={np_minversion} and <{np_maxversion}\"\n"
     ]
    }
   ],
   "source": [
    "import pandas as pd\n",
    "import numpy as np\n",
    "import matplotlib.pyplot as plt\n",
    "import seaborn as sns\n",
    "\n",
    "from sklearn.model_selection import train_test_split, RandomizedSearchCV\n",
    "from sklearn.preprocessing import MinMaxScaler\n",
    "\n",
    "from keras.models import Sequential\n",
    "from keras.layers import Dense, Dropout"
   ]
  },
  {
   "cell_type": "code",
   "execution_count": 3,
   "id": "6b6ed4eb",
   "metadata": {
    "execution": {
     "iopub.execute_input": "2023-05-25T04:27:15.732794Z",
     "iopub.status.busy": "2023-05-25T04:27:15.732068Z",
     "iopub.status.idle": "2023-05-25T04:28:22.164445Z",
     "shell.execute_reply": "2023-05-25T04:28:22.163252Z"
    },
    "papermill": {
     "duration": 66.452149,
     "end_time": "2023-05-25T04:28:22.167019",
     "exception": false,
     "start_time": "2023-05-25T04:27:15.714870",
     "status": "completed"
    },
    "tags": []
   },
   "outputs": [
    {
     "name": "stderr",
     "output_type": "stream",
     "text": [
      "/tmp/ipykernel_20/2264426951.py:1: DtypeWarning: Columns (0,19,49,59,118,129,130,131,134,135,136,139,145,146,147) have mixed types. Specify dtype option on import or set low_memory=False.\n",
      "  accepted_loans = pd.read_csv('/kaggle/input/lending-club/accepted_2007_to_2018q4.csv/accepted_2007_to_2018Q4.csv')\n"
     ]
    }
   ],
   "source": [
    "accepted_loans = pd.read_csv('/kaggle/input/lending-club/accepted_2007_to_2018q4.csv/accepted_2007_to_2018Q4.csv')"
   ]
  },
  {
   "cell_type": "code",
   "execution_count": 4,
   "id": "b1a828e0",
   "metadata": {
    "execution": {
     "iopub.execute_input": "2023-05-25T04:28:22.201236Z",
     "iopub.status.busy": "2023-05-25T04:28:22.200866Z",
     "iopub.status.idle": "2023-05-25T04:28:22.231631Z",
     "shell.execute_reply": "2023-05-25T04:28:22.230476Z"
    },
    "papermill": {
     "duration": 0.050384,
     "end_time": "2023-05-25T04:28:22.233900",
     "exception": false,
     "start_time": "2023-05-25T04:28:22.183516",
     "status": "completed"
    },
    "tags": []
   },
   "outputs": [
    {
     "name": "stdout",
     "output_type": "stream",
     "text": [
      "<class 'pandas.core.frame.DataFrame'>\n",
      "RangeIndex: 2260701 entries, 0 to 2260700\n",
      "Columns: 151 entries, id to settlement_term\n",
      "dtypes: float64(113), object(38)\n",
      "memory usage: 2.5+ GB\n"
     ]
    }
   ],
   "source": [
    "accepted_loans.info()"
   ]
  },
  {
   "cell_type": "code",
   "execution_count": 5,
   "id": "087a05be",
   "metadata": {
    "execution": {
     "iopub.execute_input": "2023-05-25T04:28:22.266853Z",
     "iopub.status.busy": "2023-05-25T04:28:22.266453Z",
     "iopub.status.idle": "2023-05-25T04:28:22.304618Z",
     "shell.execute_reply": "2023-05-25T04:28:22.303878Z"
    },
    "papermill": {
     "duration": 0.056743,
     "end_time": "2023-05-25T04:28:22.306527",
     "exception": false,
     "start_time": "2023-05-25T04:28:22.249784",
     "status": "completed"
    },
    "tags": []
   },
   "outputs": [
    {
     "data": {
      "text/html": [
       "<div>\n",
       "<style scoped>\n",
       "    .dataframe tbody tr th:only-of-type {\n",
       "        vertical-align: middle;\n",
       "    }\n",
       "\n",
       "    .dataframe tbody tr th {\n",
       "        vertical-align: top;\n",
       "    }\n",
       "\n",
       "    .dataframe thead th {\n",
       "        text-align: right;\n",
       "    }\n",
       "</style>\n",
       "<table border=\"1\" class=\"dataframe\">\n",
       "  <thead>\n",
       "    <tr style=\"text-align: right;\">\n",
       "      <th></th>\n",
       "      <th>id</th>\n",
       "      <th>member_id</th>\n",
       "      <th>loan_amnt</th>\n",
       "      <th>funded_amnt</th>\n",
       "      <th>funded_amnt_inv</th>\n",
       "      <th>term</th>\n",
       "      <th>int_rate</th>\n",
       "      <th>installment</th>\n",
       "      <th>grade</th>\n",
       "      <th>sub_grade</th>\n",
       "      <th>...</th>\n",
       "      <th>hardship_payoff_balance_amount</th>\n",
       "      <th>hardship_last_payment_amount</th>\n",
       "      <th>disbursement_method</th>\n",
       "      <th>debt_settlement_flag</th>\n",
       "      <th>debt_settlement_flag_date</th>\n",
       "      <th>settlement_status</th>\n",
       "      <th>settlement_date</th>\n",
       "      <th>settlement_amount</th>\n",
       "      <th>settlement_percentage</th>\n",
       "      <th>settlement_term</th>\n",
       "    </tr>\n",
       "  </thead>\n",
       "  <tbody>\n",
       "    <tr>\n",
       "      <th>0</th>\n",
       "      <td>68407277</td>\n",
       "      <td>NaN</td>\n",
       "      <td>3600.0</td>\n",
       "      <td>3600.0</td>\n",
       "      <td>3600.0</td>\n",
       "      <td>36 months</td>\n",
       "      <td>13.99</td>\n",
       "      <td>123.03</td>\n",
       "      <td>C</td>\n",
       "      <td>C4</td>\n",
       "      <td>...</td>\n",
       "      <td>NaN</td>\n",
       "      <td>NaN</td>\n",
       "      <td>Cash</td>\n",
       "      <td>N</td>\n",
       "      <td>NaN</td>\n",
       "      <td>NaN</td>\n",
       "      <td>NaN</td>\n",
       "      <td>NaN</td>\n",
       "      <td>NaN</td>\n",
       "      <td>NaN</td>\n",
       "    </tr>\n",
       "    <tr>\n",
       "      <th>1</th>\n",
       "      <td>68355089</td>\n",
       "      <td>NaN</td>\n",
       "      <td>24700.0</td>\n",
       "      <td>24700.0</td>\n",
       "      <td>24700.0</td>\n",
       "      <td>36 months</td>\n",
       "      <td>11.99</td>\n",
       "      <td>820.28</td>\n",
       "      <td>C</td>\n",
       "      <td>C1</td>\n",
       "      <td>...</td>\n",
       "      <td>NaN</td>\n",
       "      <td>NaN</td>\n",
       "      <td>Cash</td>\n",
       "      <td>N</td>\n",
       "      <td>NaN</td>\n",
       "      <td>NaN</td>\n",
       "      <td>NaN</td>\n",
       "      <td>NaN</td>\n",
       "      <td>NaN</td>\n",
       "      <td>NaN</td>\n",
       "    </tr>\n",
       "    <tr>\n",
       "      <th>2</th>\n",
       "      <td>68341763</td>\n",
       "      <td>NaN</td>\n",
       "      <td>20000.0</td>\n",
       "      <td>20000.0</td>\n",
       "      <td>20000.0</td>\n",
       "      <td>60 months</td>\n",
       "      <td>10.78</td>\n",
       "      <td>432.66</td>\n",
       "      <td>B</td>\n",
       "      <td>B4</td>\n",
       "      <td>...</td>\n",
       "      <td>NaN</td>\n",
       "      <td>NaN</td>\n",
       "      <td>Cash</td>\n",
       "      <td>N</td>\n",
       "      <td>NaN</td>\n",
       "      <td>NaN</td>\n",
       "      <td>NaN</td>\n",
       "      <td>NaN</td>\n",
       "      <td>NaN</td>\n",
       "      <td>NaN</td>\n",
       "    </tr>\n",
       "    <tr>\n",
       "      <th>3</th>\n",
       "      <td>66310712</td>\n",
       "      <td>NaN</td>\n",
       "      <td>35000.0</td>\n",
       "      <td>35000.0</td>\n",
       "      <td>35000.0</td>\n",
       "      <td>60 months</td>\n",
       "      <td>14.85</td>\n",
       "      <td>829.90</td>\n",
       "      <td>C</td>\n",
       "      <td>C5</td>\n",
       "      <td>...</td>\n",
       "      <td>NaN</td>\n",
       "      <td>NaN</td>\n",
       "      <td>Cash</td>\n",
       "      <td>N</td>\n",
       "      <td>NaN</td>\n",
       "      <td>NaN</td>\n",
       "      <td>NaN</td>\n",
       "      <td>NaN</td>\n",
       "      <td>NaN</td>\n",
       "      <td>NaN</td>\n",
       "    </tr>\n",
       "    <tr>\n",
       "      <th>4</th>\n",
       "      <td>68476807</td>\n",
       "      <td>NaN</td>\n",
       "      <td>10400.0</td>\n",
       "      <td>10400.0</td>\n",
       "      <td>10400.0</td>\n",
       "      <td>60 months</td>\n",
       "      <td>22.45</td>\n",
       "      <td>289.91</td>\n",
       "      <td>F</td>\n",
       "      <td>F1</td>\n",
       "      <td>...</td>\n",
       "      <td>NaN</td>\n",
       "      <td>NaN</td>\n",
       "      <td>Cash</td>\n",
       "      <td>N</td>\n",
       "      <td>NaN</td>\n",
       "      <td>NaN</td>\n",
       "      <td>NaN</td>\n",
       "      <td>NaN</td>\n",
       "      <td>NaN</td>\n",
       "      <td>NaN</td>\n",
       "    </tr>\n",
       "  </tbody>\n",
       "</table>\n",
       "<p>5 rows × 151 columns</p>\n",
       "</div>"
      ],
      "text/plain": [
       "         id  member_id  loan_amnt  funded_amnt  funded_amnt_inv        term  \\\n",
       "0  68407277        NaN     3600.0       3600.0           3600.0   36 months   \n",
       "1  68355089        NaN    24700.0      24700.0          24700.0   36 months   \n",
       "2  68341763        NaN    20000.0      20000.0          20000.0   60 months   \n",
       "3  66310712        NaN    35000.0      35000.0          35000.0   60 months   \n",
       "4  68476807        NaN    10400.0      10400.0          10400.0   60 months   \n",
       "\n",
       "   int_rate  installment grade sub_grade  ... hardship_payoff_balance_amount  \\\n",
       "0     13.99       123.03     C        C4  ...                            NaN   \n",
       "1     11.99       820.28     C        C1  ...                            NaN   \n",
       "2     10.78       432.66     B        B4  ...                            NaN   \n",
       "3     14.85       829.90     C        C5  ...                            NaN   \n",
       "4     22.45       289.91     F        F1  ...                            NaN   \n",
       "\n",
       "  hardship_last_payment_amount disbursement_method  debt_settlement_flag  \\\n",
       "0                          NaN                Cash                     N   \n",
       "1                          NaN                Cash                     N   \n",
       "2                          NaN                Cash                     N   \n",
       "3                          NaN                Cash                     N   \n",
       "4                          NaN                Cash                     N   \n",
       "\n",
       "  debt_settlement_flag_date settlement_status settlement_date  \\\n",
       "0                       NaN               NaN             NaN   \n",
       "1                       NaN               NaN             NaN   \n",
       "2                       NaN               NaN             NaN   \n",
       "3                       NaN               NaN             NaN   \n",
       "4                       NaN               NaN             NaN   \n",
       "\n",
       "  settlement_amount settlement_percentage settlement_term  \n",
       "0               NaN                   NaN             NaN  \n",
       "1               NaN                   NaN             NaN  \n",
       "2               NaN                   NaN             NaN  \n",
       "3               NaN                   NaN             NaN  \n",
       "4               NaN                   NaN             NaN  \n",
       "\n",
       "[5 rows x 151 columns]"
      ]
     },
     "execution_count": 5,
     "metadata": {},
     "output_type": "execute_result"
    }
   ],
   "source": [
    "accepted_loans.head()"
   ]
  },
  {
   "cell_type": "code",
   "execution_count": 6,
   "id": "4c65608c",
   "metadata": {
    "execution": {
     "iopub.execute_input": "2023-05-25T04:28:22.340809Z",
     "iopub.status.busy": "2023-05-25T04:28:22.340149Z",
     "iopub.status.idle": "2023-05-25T04:28:22.503308Z",
     "shell.execute_reply": "2023-05-25T04:28:22.502294Z"
    },
    "papermill": {
     "duration": 0.183115,
     "end_time": "2023-05-25T04:28:22.505494",
     "exception": false,
     "start_time": "2023-05-25T04:28:22.322379",
     "status": "completed"
    },
    "tags": []
   },
   "outputs": [
    {
     "data": {
      "text/plain": [
       "Fully Paid                                             1076751\n",
       "Current                                                 878317\n",
       "Charged Off                                             268559\n",
       "Late (31-120 days)                                       21467\n",
       "In Grace Period                                           8436\n",
       "Late (16-30 days)                                         4349\n",
       "Does not meet the credit policy. Status:Fully Paid        1988\n",
       "Does not meet the credit policy. Status:Charged Off        761\n",
       "Default                                                     40\n",
       "Name: loan_status, dtype: int64"
      ]
     },
     "execution_count": 6,
     "metadata": {},
     "output_type": "execute_result"
    }
   ],
   "source": [
    "accepted_loans['loan_status'].value_counts()"
   ]
  },
  {
   "cell_type": "markdown",
   "id": "b72eb78d",
   "metadata": {
    "papermill": {
     "duration": 0.015749,
     "end_time": "2023-05-25T04:28:22.537357",
     "exception": false,
     "start_time": "2023-05-25T04:28:22.521608",
     "status": "completed"
    },
    "tags": []
   },
   "source": [
    "# Considering only 'Fully Paid' and 'Charged Off' status"
   ]
  },
  {
   "cell_type": "code",
   "execution_count": 7,
   "id": "d6ff8f1f",
   "metadata": {
    "execution": {
     "iopub.execute_input": "2023-05-25T04:28:22.571297Z",
     "iopub.status.busy": "2023-05-25T04:28:22.570720Z",
     "iopub.status.idle": "2023-05-25T04:28:24.250300Z",
     "shell.execute_reply": "2023-05-25T04:28:24.249265Z"
    },
    "papermill": {
     "duration": 1.699103,
     "end_time": "2023-05-25T04:28:24.252424",
     "exception": false,
     "start_time": "2023-05-25T04:28:22.553321",
     "status": "completed"
    },
    "tags": []
   },
   "outputs": [
    {
     "data": {
      "text/plain": [
       "(1345310, 151)"
      ]
     },
     "execution_count": 7,
     "metadata": {},
     "output_type": "execute_result"
    }
   ],
   "source": [
    "accepted_loans = accepted_loans[(accepted_loans['loan_status'] == 'Fully Paid')|(accepted_loans['loan_status'] == 'Charged Off')]\n",
    "accepted_loans.shape"
   ]
  },
  {
   "cell_type": "code",
   "execution_count": 8,
   "id": "5430c33b",
   "metadata": {
    "execution": {
     "iopub.execute_input": "2023-05-25T04:28:24.286831Z",
     "iopub.status.busy": "2023-05-25T04:28:24.286413Z",
     "iopub.status.idle": "2023-05-25T04:28:25.182498Z",
     "shell.execute_reply": "2023-05-25T04:28:25.181512Z"
    },
    "papermill": {
     "duration": 0.915948,
     "end_time": "2023-05-25T04:28:25.184778",
     "exception": false,
     "start_time": "2023-05-25T04:28:24.268830",
     "status": "completed"
    },
    "tags": []
   },
   "outputs": [
    {
     "data": {
      "text/plain": [
       "<AxesSubplot: xlabel='loan_status', ylabel='count'>"
      ]
     },
     "execution_count": 8,
     "metadata": {},
     "output_type": "execute_result"
    },
    {
     "data": {
      "image/png": "[encoded data removed]",
      "text/plain": [
       "<Figure size 640x480 with 1 Axes>"
      ]
     },
     "metadata": {},
     "output_type": "display_data"
    }
   ],
   "source": [
    "sns.countplot(x= accepted_loans['loan_status'])"
   ]
  },
  {
   "cell_type": "code",
   "execution_count": 9,
   "id": "29ecd64d",
   "metadata": {
    "execution": {
     "iopub.execute_input": "2023-05-25T04:28:25.219356Z",
     "iopub.status.busy": "2023-05-25T04:28:25.218974Z",
     "iopub.status.idle": "2023-05-25T04:28:27.293798Z",
     "shell.execute_reply": "2023-05-25T04:28:27.288916Z"
    },
    "papermill": {
     "duration": 2.100775,
     "end_time": "2023-05-25T04:28:27.302053",
     "exception": false,
     "start_time": "2023-05-25T04:28:25.201278",
     "status": "completed"
    },
    "tags": []
   },
   "outputs": [
    {
     "name": "stdout",
     "output_type": "stream",
     "text": [
      "1076751\n",
      "268559\n",
      "4.009364795072964\n"
     ]
    }
   ],
   "source": [
    "num_fully_paid_loans = accepted_loans[accepted_loans['loan_status'] == 'Fully Paid'].shape[0]\n",
    "num_charged_off_loans = accepted_loans[accepted_loans['loan_status'] == 'Charged Off'].shape[0]\n",
    "print(num_fully_paid_loans)\n",
    "print(num_charged_off_loans)\n",
    "print(num_fully_paid_loans / num_charged_off_loans)"
   ]
  },
  {
   "cell_type": "markdown",
   "id": "06542f02",
   "metadata": {
    "papermill": {
     "duration": 0.062238,
     "end_time": "2023-05-25T04:28:27.436876",
     "exception": false,
     "start_time": "2023-05-25T04:28:27.374638",
     "status": "completed"
    },
    "tags": []
   },
   "source": [
    "# Data cleaning"
   ]
  },
  {
   "cell_type": "code",
   "execution_count": 10,
   "id": "6c95b6fe",
   "metadata": {
    "execution": {
     "iopub.execute_input": "2023-05-25T04:28:27.519220Z",
     "iopub.status.busy": "2023-05-25T04:28:27.518757Z",
     "iopub.status.idle": "2023-05-25T04:28:36.016642Z",
     "shell.execute_reply": "2023-05-25T04:28:36.015444Z"
    },
    "papermill": {
     "duration": 8.518659,
     "end_time": "2023-05-25T04:28:36.019025",
     "exception": false,
     "start_time": "2023-05-25T04:28:27.500366",
     "status": "completed"
    },
    "tags": []
   },
   "outputs": [
    {
     "data": {
      "text/plain": [
       "next_pymnt_d                                  100.000000\n",
       "member_id                                     100.000000\n",
       "orig_projected_additional_accrued_interest     99.720585\n",
       "hardship_start_date                            99.572292\n",
       "hardship_length                                99.572292\n",
       "                                                 ...    \n",
       "pub_rec                                         0.000000\n",
       "open_acc                                        0.000000\n",
       "fico_range_high                                 0.000000\n",
       "fico_range_low                                  0.000000\n",
       "id                                              0.000000\n",
       "Length: 151, dtype: float64"
      ]
     },
     "execution_count": 10,
     "metadata": {},
     "output_type": "execute_result"
    }
   ],
   "source": [
    "# missing percentage\n",
    "(accepted_loans.isnull().sum() / len(accepted_loans) * 100).sort_values(ascending=False)"
   ]
  },
  {
   "cell_type": "code",
   "execution_count": 11,
   "id": "db4a5383",
   "metadata": {
    "execution": {
     "iopub.execute_input": "2023-05-25T04:28:36.056046Z",
     "iopub.status.busy": "2023-05-25T04:28:36.055291Z",
     "iopub.status.idle": "2023-05-25T04:28:44.038096Z",
     "shell.execute_reply": "2023-05-25T04:28:44.037039Z"
    },
    "papermill": {
     "duration": 8.003761,
     "end_time": "2023-05-25T04:28:44.040235",
     "exception": false,
     "start_time": "2023-05-25T04:28:36.036474",
     "status": "completed"
    },
    "tags": []
   },
   "outputs": [
    {
     "data": {
      "text/plain": [
       "93"
      ]
     },
     "execution_count": 11,
     "metadata": {},
     "output_type": "execute_result"
    }
   ],
   "source": [
    "# dropping columns have more than 50% missing data\n",
    "keeping_columns = accepted_loans.columns[accepted_loans.isnull().sum() < (len(accepted_loans) / 2)].to_list()\n",
    "len(keeping_columns)"
   ]
  },
  {
   "cell_type": "code",
   "execution_count": 12,
   "id": "3349f2f1",
   "metadata": {
    "execution": {
     "iopub.execute_input": "2023-05-25T04:28:44.075864Z",
     "iopub.status.busy": "2023-05-25T04:28:44.075259Z",
     "iopub.status.idle": "2023-05-25T04:28:49.732677Z",
     "shell.execute_reply": "2023-05-25T04:28:49.731573Z"
    },
    "papermill": {
     "duration": 5.677858,
     "end_time": "2023-05-25T04:28:49.734942",
     "exception": false,
     "start_time": "2023-05-25T04:28:44.057084",
     "status": "completed"
    },
    "tags": []
   },
   "outputs": [
    {
     "data": {
      "text/plain": [
       "mths_since_recent_inq         12.939100\n",
       "num_tl_120dpd_2m               8.726688\n",
       "mo_sin_old_il_acct             7.847634\n",
       "emp_title                      6.376597\n",
       "emp_length                     5.835904\n",
       "pct_tl_nvr_dlq                 5.030885\n",
       "avg_cur_bal                    5.021073\n",
       "num_rev_accts                  5.019512\n",
       "mo_sin_rcnt_rev_tl_op          5.019512\n",
       "mo_sin_old_rev_tl_op           5.019512\n",
       "mo_sin_rcnt_tl                 5.019438\n",
       "num_rev_tl_bal_gt_0            5.019438\n",
       "num_accts_ever_120_pd          5.019438\n",
       "num_actv_bc_tl                 5.019438\n",
       "num_actv_rev_tl                5.019438\n",
       "num_bc_tl                      5.019438\n",
       "tot_coll_amt                   5.019438\n",
       "total_rev_hi_lim               5.019438\n",
       "num_op_rev_tl                  5.019438\n",
       "num_il_tl                      5.019438\n",
       "tot_cur_bal                    5.019438\n",
       "tot_hi_cred_lim                5.019438\n",
       "num_tl_op_past_12m             5.019438\n",
       "total_il_high_credit_limit     5.019438\n",
       "num_tl_30dpd                   5.019438\n",
       "num_tl_90g_dpd_24m             5.019438\n",
       "bc_util                        4.602062\n",
       "percent_bc_gt_75               4.575525\n",
       "bc_open_to_buy                 4.544900\n",
       "mths_since_recent_bc           4.476366\n",
       "num_bc_sats                    4.150791\n",
       "num_sats                       4.150791\n",
       "mort_acc                       3.514506\n",
       "total_bal_ex_mort              3.514506\n",
       "total_bc_limit                 3.514506\n",
       "acc_open_past_24mths           3.514506\n",
       "title                          1.238302\n",
       "last_pymnt_d                   0.171931\n",
       "revol_util                     0.063703\n",
       "pub_rec_bankruptcies           0.051810\n",
       "dti                            0.027800\n",
       "collections_12_mths_ex_med     0.004163\n",
       "chargeoff_within_12_mths       0.004163\n",
       "last_credit_pull_d             0.004088\n",
       "tax_liens                      0.002899\n",
       "zip_code                       0.000074\n",
       "inq_last_6mths                 0.000074\n",
       "hardship_flag                  0.000000\n",
       "delinq_amnt                    0.000000\n",
       "disbursement_method            0.000000\n",
       "dtype: float64"
      ]
     },
     "execution_count": 12,
     "metadata": {},
     "output_type": "execute_result"
    }
   ],
   "source": [
    "accepted_loans = accepted_loans[keeping_columns]\n",
    "(accepted_loans.isnull().sum() / len(accepted_loans) * 100).sort_values(ascending=False).head(50)"
   ]
  },
  {
   "cell_type": "code",
   "execution_count": 13,
   "id": "5a1ff06f",
   "metadata": {
    "execution": {
     "iopub.execute_input": "2023-05-25T04:28:49.771784Z",
     "iopub.status.busy": "2023-05-25T04:28:49.771207Z",
     "iopub.status.idle": "2023-05-25T04:28:55.224343Z",
     "shell.execute_reply": "2023-05-25T04:28:55.223292Z"
    },
    "papermill": {
     "duration": 5.474284,
     "end_time": "2023-05-25T04:28:55.226606",
     "exception": false,
     "start_time": "2023-05-25T04:28:49.752322",
     "status": "completed"
    },
    "tags": []
   },
   "outputs": [
    {
     "data": {
      "text/plain": [
       "(1345310, 56)"
      ]
     },
     "execution_count": 13,
     "metadata": {},
     "output_type": "execute_result"
    }
   ],
   "source": [
    "# dropping up to 'title' feature\n",
    "dropping_columns = accepted_loans.isnull().sum().sort_values(ascending=False).head(37).index\n",
    "accepted_loans = accepted_loans.drop(columns=dropping_columns)\n",
    "accepted_loans.shape"
   ]
  },
  {
   "cell_type": "code",
   "execution_count": 14,
   "id": "9b24b1e4",
   "metadata": {
    "execution": {
     "iopub.execute_input": "2023-05-25T04:28:55.262468Z",
     "iopub.status.busy": "2023-05-25T04:28:55.262098Z",
     "iopub.status.idle": "2023-05-25T04:28:59.381992Z",
     "shell.execute_reply": "2023-05-25T04:28:59.380988Z"
    },
    "papermill": {
     "duration": 4.140559,
     "end_time": "2023-05-25T04:28:59.384427",
     "exception": false,
     "start_time": "2023-05-25T04:28:55.243868",
     "status": "completed"
    },
    "tags": []
   },
   "outputs": [
    {
     "data": {
      "text/plain": [
       "last_pymnt_d                  0.171931\n",
       "revol_util                    0.063703\n",
       "pub_rec_bankruptcies          0.051810\n",
       "dti                           0.027800\n",
       "chargeoff_within_12_mths      0.004163\n",
       "collections_12_mths_ex_med    0.004163\n",
       "last_credit_pull_d            0.004088\n",
       "tax_liens                     0.002899\n",
       "inq_last_6mths                0.000074\n",
       "zip_code                      0.000074\n",
       "delinq_amnt                   0.000000\n",
       "disbursement_method           0.000000\n",
       "out_prncp_inv                 0.000000\n",
       "total_pymnt                   0.000000\n",
       "total_pymnt_inv               0.000000\n",
       "total_rec_prncp               0.000000\n",
       "total_rec_int                 0.000000\n",
       "total_rec_late_fee            0.000000\n",
       "recoveries                    0.000000\n",
       "collection_recovery_fee       0.000000\n",
       "acc_now_delinq                0.000000\n",
       "hardship_flag                 0.000000\n",
       "last_pymnt_amnt               0.000000\n",
       "initial_list_status           0.000000\n",
       "last_fico_range_high          0.000000\n",
       "last_fico_range_low           0.000000\n",
       "policy_code                   0.000000\n",
       "application_type              0.000000\n",
       "out_prncp                     0.000000\n",
       "id                            0.000000\n",
       "total_acc                     0.000000\n",
       "loan_amnt                     0.000000\n",
       "funded_amnt                   0.000000\n",
       "funded_amnt_inv               0.000000\n",
       "term                          0.000000\n",
       "int_rate                      0.000000\n",
       "installment                   0.000000\n",
       "grade                         0.000000\n",
       "sub_grade                     0.000000\n",
       "home_ownership                0.000000\n",
       "annual_inc                    0.000000\n",
       "verification_status           0.000000\n",
       "issue_d                       0.000000\n",
       "loan_status                   0.000000\n",
       "pymnt_plan                    0.000000\n",
       "url                           0.000000\n",
       "purpose                       0.000000\n",
       "addr_state                    0.000000\n",
       "delinq_2yrs                   0.000000\n",
       "earliest_cr_line              0.000000\n",
       "fico_range_low                0.000000\n",
       "fico_range_high               0.000000\n",
       "open_acc                      0.000000\n",
       "pub_rec                       0.000000\n",
       "revol_bal                     0.000000\n",
       "debt_settlement_flag          0.000000\n",
       "dtype: float64"
      ]
     },
     "execution_count": 14,
     "metadata": {},
     "output_type": "execute_result"
    }
   ],
   "source": [
    "(accepted_loans.isnull().sum() / len(accepted_loans) * 100).sort_values(ascending=False)"
   ]
  },
  {
   "cell_type": "code",
   "execution_count": 15,
   "id": "10d85d5f",
   "metadata": {
    "execution": {
     "iopub.execute_input": "2023-05-25T04:28:59.420949Z",
     "iopub.status.busy": "2023-05-25T04:28:59.420145Z",
     "iopub.status.idle": "2023-05-25T04:29:03.448867Z",
     "shell.execute_reply": "2023-05-25T04:29:03.447241Z"
    },
    "papermill": {
     "duration": 4.049833,
     "end_time": "2023-05-25T04:29:03.451532",
     "exception": false,
     "start_time": "2023-05-25T04:28:59.401699",
     "status": "completed"
    },
    "tags": []
   },
   "outputs": [
    {
     "name": "stdout",
     "output_type": "stream",
     "text": [
      "<class 'pandas.core.frame.DataFrame'>\n",
      "Int64Index: 1345310 entries, 0 to 2260697\n",
      "Data columns (total 56 columns):\n",
      " #   Column                      Non-Null Count    Dtype  \n",
      "---  ------                      --------------    -----  \n",
      " 0   id                          1345310 non-null  object \n",
      " 1   loan_amnt                   1345310 non-null  float64\n",
      " 2   funded_amnt                 1345310 non-null  float64\n",
      " 3   funded_amnt_inv             1345310 non-null  float64\n",
      " 4   term                        1345310 non-null  object \n",
      " 5   int_rate                    1345310 non-null  float64\n",
      " 6   installment                 1345310 non-null  float64\n",
      " 7   grade                       1345310 non-null  object \n",
      " 8   sub_grade                   1345310 non-null  object \n",
      " 9   home_ownership              1345310 non-null  object \n",
      " 10  annual_inc                  1345310 non-null  float64\n",
      " 11  verification_status         1345310 non-null  object \n",
      " 12  issue_d                     1345310 non-null  object \n",
      " 13  loan_status                 1345310 non-null  object \n",
      " 14  pymnt_plan                  1345310 non-null  object \n",
      " 15  url                         1345310 non-null  object \n",
      " 16  purpose                     1345310 non-null  object \n",
      " 17  zip_code                    1345309 non-null  object \n",
      " 18  addr_state                  1345310 non-null  object \n",
      " 19  dti                         1344936 non-null  float64\n",
      " 20  delinq_2yrs                 1345310 non-null  float64\n",
      " 21  earliest_cr_line            1345310 non-null  object \n",
      " 22  fico_range_low              1345310 non-null  float64\n",
      " 23  fico_range_high             1345310 non-null  float64\n",
      " 24  inq_last_6mths              1345309 non-null  float64\n",
      " 25  open_acc                    1345310 non-null  float64\n",
      " 26  pub_rec                     1345310 non-null  float64\n",
      " 27  revol_bal                   1345310 non-null  float64\n",
      " 28  revol_util                  1344453 non-null  float64\n",
      " 29  total_acc                   1345310 non-null  float64\n",
      " 30  initial_list_status         1345310 non-null  object \n",
      " 31  out_prncp                   1345310 non-null  float64\n",
      " 32  out_prncp_inv               1345310 non-null  float64\n",
      " 33  total_pymnt                 1345310 non-null  float64\n",
      " 34  total_pymnt_inv             1345310 non-null  float64\n",
      " 35  total_rec_prncp             1345310 non-null  float64\n",
      " 36  total_rec_int               1345310 non-null  float64\n",
      " 37  total_rec_late_fee          1345310 non-null  float64\n",
      " 38  recoveries                  1345310 non-null  float64\n",
      " 39  collection_recovery_fee     1345310 non-null  float64\n",
      " 40  last_pymnt_d                1342997 non-null  object \n",
      " 41  last_pymnt_amnt             1345310 non-null  float64\n",
      " 42  last_credit_pull_d          1345255 non-null  object \n",
      " 43  last_fico_range_high        1345310 non-null  float64\n",
      " 44  last_fico_range_low         1345310 non-null  float64\n",
      " 45  collections_12_mths_ex_med  1345254 non-null  float64\n",
      " 46  policy_code                 1345310 non-null  float64\n",
      " 47  application_type            1345310 non-null  object \n",
      " 48  acc_now_delinq              1345310 non-null  float64\n",
      " 49  chargeoff_within_12_mths    1345254 non-null  float64\n",
      " 50  delinq_amnt                 1345310 non-null  float64\n",
      " 51  pub_rec_bankruptcies        1344613 non-null  float64\n",
      " 52  tax_liens                   1345271 non-null  float64\n",
      " 53  hardship_flag               1345310 non-null  object \n",
      " 54  disbursement_method         1345310 non-null  object \n",
      " 55  debt_settlement_flag        1345310 non-null  object \n",
      "dtypes: float64(35), object(21)\n",
      "memory usage: 585.0+ MB\n"
     ]
    }
   ],
   "source": [
    "accepted_loans.info()"
   ]
  },
  {
   "cell_type": "markdown",
   "id": "5745d27e",
   "metadata": {
    "papermill": {
     "duration": 0.017127,
     "end_time": "2023-05-25T04:29:03.486540",
     "exception": false,
     "start_time": "2023-05-25T04:29:03.469413",
     "status": "completed"
    },
    "tags": []
   },
   "source": [
    "# Preprocessing"
   ]
  },
  {
   "cell_type": "code",
   "execution_count": 16,
   "id": "5c67a9a2",
   "metadata": {
    "execution": {
     "iopub.execute_input": "2023-05-25T04:29:03.523285Z",
     "iopub.status.busy": "2023-05-25T04:29:03.522931Z",
     "iopub.status.idle": "2023-05-25T04:29:05.105708Z",
     "shell.execute_reply": "2023-05-25T04:29:05.104685Z"
    },
    "papermill": {
     "duration": 1.60429,
     "end_time": "2023-05-25T04:29:05.108256",
     "exception": false,
     "start_time": "2023-05-25T04:29:03.503966",
     "status": "completed"
    },
    "tags": []
   },
   "outputs": [
    {
     "data": {
      "text/plain": [
       "<AxesSubplot: xlabel='loan_amnt', ylabel='Count'>"
      ]
     },
     "execution_count": 16,
     "metadata": {},
     "output_type": "execute_result"
    },
    {
     "data": {
      "image/png": "[encoded data removed]",
      "text/plain": [
       "<Figure size 2000x800 with 1 Axes>"
      ]
     },
     "metadata": {},
     "output_type": "display_data"
    }
   ],
   "source": [
    "plt.figure(figsize=(20, 8))\n",
    "sns.histplot(accepted_loans['loan_amnt'])"
   ]
  },
  {
   "cell_type": "markdown",
   "id": "c6c59890",
   "metadata": {
    "papermill": {
     "duration": 0.018158,
     "end_time": "2023-05-25T04:29:05.145881",
     "exception": false,
     "start_time": "2023-05-25T04:29:05.127723",
     "status": "completed"
    },
    "tags": []
   },
   "source": [
    "**Seeing correlation between continuous features via heatmap**"
   ]
  },
  {
   "cell_type": "code",
   "execution_count": 17,
   "id": "57865fec",
   "metadata": {
    "execution": {
     "iopub.execute_input": "2023-05-25T04:29:05.184610Z",
     "iopub.status.busy": "2023-05-25T04:29:05.183957Z",
     "iopub.status.idle": "2023-05-25T04:29:15.947113Z",
     "shell.execute_reply": "2023-05-25T04:29:15.946025Z"
    },
    "papermill": {
     "duration": 10.786179,
     "end_time": "2023-05-25T04:29:15.950429",
     "exception": false,
     "start_time": "2023-05-25T04:29:05.164250",
     "status": "completed"
    },
    "tags": []
   },
   "outputs": [
    {
     "name": "stderr",
     "output_type": "stream",
     "text": [
      "/tmp/ipykernel_20/4175311885.py:2: FutureWarning: The default value of numeric_only in DataFrame.corr is deprecated. In a future version, it will default to False. Select only valid columns or specify the value of numeric_only to silence this warning.\n",
      "  mask = np.zeros_like(accepted_loans.corr())\n",
      "/tmp/ipykernel_20/4175311885.py:4: FutureWarning: The default value of numeric_only in DataFrame.corr is deprecated. In a future version, it will default to False. Select only valid columns or specify the value of numeric_only to silence this warning.\n",
      "  sns.heatmap(accepted_loans.corr(), mask=mask, cmap='viridis')\n"
     ]
    },
    {
     "data": {
      "text/plain": [
       "<AxesSubplot: >"
      ]
     },
     "execution_count": 17,
     "metadata": {},
     "output_type": "execute_result"
    },
    {
     "data": {
      "image/png": "[encoded data removed]",
      "text/plain": [
       "<Figure size 1400x1000 with 2 Axes>"
      ]
     },
     "metadata": {},
     "output_type": "display_data"
    }
   ],
   "source": [
    "plt.figure(figsize=(14, 10))\n",
    "mask = np.zeros_like(accepted_loans.corr())\n",
    "mask[np.triu_indices_from(mask)] = True\n",
    "sns.heatmap(accepted_loans.corr(), mask=mask, cmap='viridis')"
   ]
  },
  {
   "cell_type": "code",
   "execution_count": 18,
   "id": "a6b9efc4",
   "metadata": {
    "execution": {
     "iopub.execute_input": "2023-05-25T04:29:15.993874Z",
     "iopub.status.busy": "2023-05-25T04:29:15.992927Z",
     "iopub.status.idle": "2023-05-25T04:29:16.040969Z",
     "shell.execute_reply": "2023-05-25T04:29:16.039778Z"
    },
    "papermill": {
     "duration": 0.071954,
     "end_time": "2023-05-25T04:29:16.043287",
     "exception": false,
     "start_time": "2023-05-25T04:29:15.971333",
     "status": "completed"
    },
    "tags": []
   },
   "outputs": [
    {
     "name": "stdout",
     "output_type": "stream",
     "text": [
      "0.0    1345310\n",
      "Name: out_prncp, dtype: int64\n",
      "0.0    1345310\n",
      "Name: out_prncp_inv, dtype: int64\n",
      "1.0    1345310\n",
      "Name: policy_code, dtype: int64\n"
     ]
    }
   ],
   "source": [
    "#There are 3 columns with a visible different behaviour: out_prncp, out_prncp_inv and policy_code\n",
    "print(accepted_loans['out_prncp'].value_counts())\n",
    "print(accepted_loans['out_prncp_inv'].value_counts())\n",
    "print(accepted_loans['policy_code'].value_counts())"
   ]
  },
  {
   "cell_type": "code",
   "execution_count": 19,
   "id": "5164ac4b",
   "metadata": {
    "execution": {
     "iopub.execute_input": "2023-05-25T04:29:16.086035Z",
     "iopub.status.busy": "2023-05-25T04:29:16.085391Z",
     "iopub.status.idle": "2023-05-25T04:29:16.657912Z",
     "shell.execute_reply": "2023-05-25T04:29:16.656885Z"
    },
    "papermill": {
     "duration": 0.596362,
     "end_time": "2023-05-25T04:29:16.660152",
     "exception": false,
     "start_time": "2023-05-25T04:29:16.063790",
     "status": "completed"
    },
    "tags": []
   },
   "outputs": [
    {
     "data": {
      "text/plain": [
       "(1345310, 53)"
      ]
     },
     "execution_count": 19,
     "metadata": {},
     "output_type": "execute_result"
    }
   ],
   "source": [
    "# They are constant, so we can drop these features\n",
    "dropping_columns =['out_prncp','out_prncp_inv','policy_code']\n",
    "accepted_loans= accepted_loans.drop(columns = dropping_columns)\n",
    "accepted_loans.shape"
   ]
  },
  {
   "cell_type": "code",
   "execution_count": 20,
   "id": "b41b30a8",
   "metadata": {
    "execution": {
     "iopub.execute_input": "2023-05-25T04:29:16.704388Z",
     "iopub.status.busy": "2023-05-25T04:29:16.704016Z",
     "iopub.status.idle": "2023-05-25T04:29:25.551960Z",
     "shell.execute_reply": "2023-05-25T04:29:25.551221Z"
    },
    "papermill": {
     "duration": 8.873055,
     "end_time": "2023-05-25T04:29:25.554662",
     "exception": false,
     "start_time": "2023-05-25T04:29:16.681607",
     "status": "completed"
    },
    "tags": []
   },
   "outputs": [
    {
     "name": "stderr",
     "output_type": "stream",
     "text": [
      "/tmp/ipykernel_20/1486153548.py:2: FutureWarning: The default value of numeric_only in DataFrame.corr is deprecated. In a future version, it will default to False. Select only valid columns or specify the value of numeric_only to silence this warning.\n",
      "  mask = np.zeros_like(accepted_loans.corr())\n",
      "/tmp/ipykernel_20/1486153548.py:4: FutureWarning: The default value of numeric_only in DataFrame.corr is deprecated. In a future version, it will default to False. Select only valid columns or specify the value of numeric_only to silence this warning.\n",
      "  sns.heatmap(accepted_loans.corr(), mask = mask, cmap='viridis')\n"
     ]
    },
    {
     "data": {
      "text/plain": [
       "<AxesSubplot: >"
      ]
     },
     "execution_count": 20,
     "metadata": {},
     "output_type": "execute_result"
    },
    {
     "data": {
      "image/png": "[encoded data removed]",
      "text/plain": [
       "<Figure size 1400x1000 with 2 Axes>"
      ]
     },
     "metadata": {},
     "output_type": "display_data"
    }
   ],
   "source": [
    "plt.figure(figsize=(14,10))\n",
    "mask = np.zeros_like(accepted_loans.corr())\n",
    "mask[np.triu_indices_from(mask)] = True\n",
    "sns.heatmap(accepted_loans.corr(), mask = mask, cmap='viridis')"
   ]
  },
  {
   "cell_type": "markdown",
   "id": "d87adc9e",
   "metadata": {
    "papermill": {
     "duration": 0.022408,
     "end_time": "2023-05-25T04:29:25.599638",
     "exception": false,
     "start_time": "2023-05-25T04:29:25.577230",
     "status": "completed"
    },
    "tags": []
   },
   "source": [
    "# Leakage features"
   ]
  },
  {
   "cell_type": "code",
   "execution_count": 21,
   "id": "505edd48",
   "metadata": {
    "execution": {
     "iopub.execute_input": "2023-05-25T04:29:25.646638Z",
     "iopub.status.busy": "2023-05-25T04:29:25.645764Z",
     "iopub.status.idle": "2023-05-25T04:29:25.650528Z",
     "shell.execute_reply": "2023-05-25T04:29:25.649795Z"
    },
    "papermill": {
     "duration": 0.030122,
     "end_time": "2023-05-25T04:29:25.652338",
     "exception": false,
     "start_time": "2023-05-25T04:29:25.622216",
     "status": "completed"
    },
    "tags": []
   },
   "outputs": [],
   "source": [
    "leakage_columns = ['last_pymnt_d', 'last_fico_range_low', 'issue_d', 'funded_amnt_inv', 'funded_amnt', 'last_fico_range_high', 'funded_amnt_inv', 'collection_recovery_fee', 'recoveries', 'total_rec_late_fee', 'total_rec_int', 'total_rec_prncp', 'total_pymnt_inv', 'total_pymnt']\n",
    "possible_leakage_columns = ['last_credit_pull_d', 'hardship_flag', 'disbursement_method', 'debt_settlement_flag']"
   ]
  },
  {
   "cell_type": "code",
   "execution_count": 22,
   "id": "0b7a2383",
   "metadata": {
    "execution": {
     "iopub.execute_input": "2023-05-25T04:29:25.699049Z",
     "iopub.status.busy": "2023-05-25T04:29:25.698429Z",
     "iopub.status.idle": "2023-05-25T04:29:26.201870Z",
     "shell.execute_reply": "2023-05-25T04:29:26.200946Z"
    },
    "papermill": {
     "duration": 0.529589,
     "end_time": "2023-05-25T04:29:26.204411",
     "exception": false,
     "start_time": "2023-05-25T04:29:25.674822",
     "status": "completed"
    },
    "tags": []
   },
   "outputs": [],
   "source": [
    "accepted_loans = accepted_loans.drop(columns=leakage_columns)"
   ]
  },
  {
   "cell_type": "code",
   "execution_count": 23,
   "id": "db21bae5",
   "metadata": {
    "execution": {
     "iopub.execute_input": "2023-05-25T04:29:26.253347Z",
     "iopub.status.busy": "2023-05-25T04:29:26.252952Z",
     "iopub.status.idle": "2023-05-25T04:29:29.933998Z",
     "shell.execute_reply": "2023-05-25T04:29:29.932788Z"
    },
    "papermill": {
     "duration": 3.708471,
     "end_time": "2023-05-25T04:29:29.936265",
     "exception": false,
     "start_time": "2023-05-25T04:29:26.227794",
     "status": "completed"
    },
    "tags": []
   },
   "outputs": [
    {
     "name": "stdout",
     "output_type": "stream",
     "text": [
      "<class 'pandas.core.frame.DataFrame'>\n",
      "Int64Index: 1345310 entries, 0 to 2260697\n",
      "Data columns (total 40 columns):\n",
      " #   Column                      Non-Null Count    Dtype  \n",
      "---  ------                      --------------    -----  \n",
      " 0   id                          1345310 non-null  object \n",
      " 1   loan_amnt                   1345310 non-null  float64\n",
      " 2   term                        1345310 non-null  object \n",
      " 3   int_rate                    1345310 non-null  float64\n",
      " 4   installment                 1345310 non-null  float64\n",
      " 5   grade                       1345310 non-null  object \n",
      " 6   sub_grade                   1345310 non-null  object \n",
      " 7   home_ownership              1345310 non-null  object \n",
      " 8   annual_inc                  1345310 non-null  float64\n",
      " 9   verification_status         1345310 non-null  object \n",
      " 10  loan_status                 1345310 non-null  object \n",
      " 11  pymnt_plan                  1345310 non-null  object \n",
      " 12  url                         1345310 non-null  object \n",
      " 13  purpose                     1345310 non-null  object \n",
      " 14  zip_code                    1345309 non-null  object \n",
      " 15  addr_state                  1345310 non-null  object \n",
      " 16  dti                         1344936 non-null  float64\n",
      " 17  delinq_2yrs                 1345310 non-null  float64\n",
      " 18  earliest_cr_line            1345310 non-null  object \n",
      " 19  fico_range_low              1345310 non-null  float64\n",
      " 20  fico_range_high             1345310 non-null  float64\n",
      " 21  inq_last_6mths              1345309 non-null  float64\n",
      " 22  open_acc                    1345310 non-null  float64\n",
      " 23  pub_rec                     1345310 non-null  float64\n",
      " 24  revol_bal                   1345310 non-null  float64\n",
      " 25  revol_util                  1344453 non-null  float64\n",
      " 26  total_acc                   1345310 non-null  float64\n",
      " 27  initial_list_status         1345310 non-null  object \n",
      " 28  last_pymnt_amnt             1345310 non-null  float64\n",
      " 29  last_credit_pull_d          1345255 non-null  object \n",
      " 30  collections_12_mths_ex_med  1345254 non-null  float64\n",
      " 31  application_type            1345310 non-null  object \n",
      " 32  acc_now_delinq              1345310 non-null  float64\n",
      " 33  chargeoff_within_12_mths    1345254 non-null  float64\n",
      " 34  delinq_amnt                 1345310 non-null  float64\n",
      " 35  pub_rec_bankruptcies        1344613 non-null  float64\n",
      " 36  tax_liens                   1345271 non-null  float64\n",
      " 37  hardship_flag               1345310 non-null  object \n",
      " 38  disbursement_method         1345310 non-null  object \n",
      " 39  debt_settlement_flag        1345310 non-null  object \n",
      "dtypes: float64(21), object(19)\n",
      "memory usage: 420.8+ MB\n"
     ]
    }
   ],
   "source": [
    "accepted_loans.info()"
   ]
  },
  {
   "cell_type": "code",
   "execution_count": 24,
   "id": "d2cd7cd3",
   "metadata": {
    "execution": {
     "iopub.execute_input": "2023-05-25T04:29:29.984305Z",
     "iopub.status.busy": "2023-05-25T04:29:29.983255Z",
     "iopub.status.idle": "2023-05-25T04:29:31.808631Z",
     "shell.execute_reply": "2023-05-25T04:29:31.807466Z"
    },
    "papermill": {
     "duration": 1.852045,
     "end_time": "2023-05-25T04:29:31.811179",
     "exception": false,
     "start_time": "2023-05-25T04:29:29.959134",
     "status": "completed"
    },
    "tags": []
   },
   "outputs": [
    {
     "name": "stderr",
     "output_type": "stream",
     "text": [
      "/tmp/ipykernel_20/1051829662.py:2: FutureWarning: The default value of numeric_only in DataFrame.corr is deprecated. In a future version, it will default to False. Select only valid columns or specify the value of numeric_only to silence this warning.\n",
      "  correlation_matrix = accepted_loans.corr().abs()\n"
     ]
    },
    {
     "data": {
      "text/html": [
       "<div>\n",
       "<style scoped>\n",
       "    .dataframe tbody tr th:only-of-type {\n",
       "        vertical-align: middle;\n",
       "    }\n",
       "\n",
       "    .dataframe tbody tr th {\n",
       "        vertical-align: top;\n",
       "    }\n",
       "\n",
       "    .dataframe thead th {\n",
       "        text-align: right;\n",
       "    }\n",
       "</style>\n",
       "<table border=\"1\" class=\"dataframe\">\n",
       "  <thead>\n",
       "    <tr style=\"text-align: right;\">\n",
       "      <th></th>\n",
       "      <th>feature 1</th>\n",
       "      <th>feature 2</th>\n",
       "      <th>corr</th>\n",
       "    </tr>\n",
       "  </thead>\n",
       "  <tbody>\n",
       "    <tr>\n",
       "      <th>1</th>\n",
       "      <td>fico_range_high</td>\n",
       "      <td>fico_range_low</td>\n",
       "      <td>1.000000</td>\n",
       "    </tr>\n",
       "    <tr>\n",
       "      <th>2</th>\n",
       "      <td>installment</td>\n",
       "      <td>loan_amnt</td>\n",
       "      <td>0.953401</td>\n",
       "    </tr>\n",
       "  </tbody>\n",
       "</table>\n",
       "</div>"
      ],
      "text/plain": [
       "         feature 1       feature 2      corr\n",
       "1  fico_range_high  fico_range_low  1.000000\n",
       "2      installment       loan_amnt  0.953401"
      ]
     },
     "execution_count": 24,
     "metadata": {},
     "output_type": "execute_result"
    }
   ],
   "source": [
    "# Unstacking correlation to see highest correlation pairs\n",
    "correlation_matrix = accepted_loans.corr().abs()\n",
    "unstack_corr = correlation_matrix.unstack()\n",
    "unstack_corr = unstack_corr.sort_values(ascending=False)\n",
    "\n",
    "corr_df = pd.DataFrame(unstack_corr).drop_duplicates().reset_index()\n",
    "corr_df.columns = ['feature 1', 'feature 2', 'corr']\n",
    "\n",
    "# check pairs of feature having corr > 0.8\n",
    "condition1 = corr_df['corr'] > 0.8\n",
    "condition2 = corr_df['feature 1'] != corr_df['feature 2']\n",
    "corr_df[condition1 & condition2]\n"
   ]
  },
  {
   "cell_type": "markdown",
   "id": "b55e22c1",
   "metadata": {
    "papermill": {
     "duration": 0.024601,
     "end_time": "2023-05-25T04:29:31.859092",
     "exception": false,
     "start_time": "2023-05-25T04:29:31.834491",
     "status": "completed"
    },
    "tags": []
   },
   "source": [
    "**Performing scatter plot to check some correlations between variables**"
   ]
  },
  {
   "cell_type": "code",
   "execution_count": 25,
   "id": "28f7d64c",
   "metadata": {
    "execution": {
     "iopub.execute_input": "2023-05-25T04:29:31.906904Z",
     "iopub.status.busy": "2023-05-25T04:29:31.906485Z",
     "iopub.status.idle": "2023-05-25T04:29:37.051545Z",
     "shell.execute_reply": "2023-05-25T04:29:37.050459Z"
    },
    "papermill": {
     "duration": 5.171726,
     "end_time": "2023-05-25T04:29:37.053817",
     "exception": false,
     "start_time": "2023-05-25T04:29:31.882091",
     "status": "completed"
    },
    "tags": []
   },
   "outputs": [
    {
     "data": {
      "text/plain": [
       "<AxesSubplot: xlabel='fico_range_low', ylabel='fico_range_high'>"
      ]
     },
     "execution_count": 25,
     "metadata": {},
     "output_type": "execute_result"
    },
    {
     "data": {
      "image/png": "[encoded data removed]",
      "text/plain": [
       "<Figure size 640x480 with 1 Axes>"
      ]
     },
     "metadata": {},
     "output_type": "display_data"
    }
   ],
   "source": [
    "sns.scatterplot(x= accepted_loans['fico_range_low'],y =accepted_loans['fico_range_high'])"
   ]
  },
  {
   "cell_type": "code",
   "execution_count": 26,
   "id": "b5751839",
   "metadata": {
    "execution": {
     "iopub.execute_input": "2023-05-25T04:29:37.104056Z",
     "iopub.status.busy": "2023-05-25T04:29:37.103234Z",
     "iopub.status.idle": "2023-05-25T04:29:42.347457Z",
     "shell.execute_reply": "2023-05-25T04:29:42.346651Z"
    },
    "papermill": {
     "duration": 5.27267,
     "end_time": "2023-05-25T04:29:42.350363",
     "exception": false,
     "start_time": "2023-05-25T04:29:37.077693",
     "status": "completed"
    },
    "tags": []
   },
   "outputs": [
    {
     "data": {
      "text/plain": [
       "<AxesSubplot: xlabel='loan_amnt', ylabel='installment'>"
      ]
     },
     "execution_count": 26,
     "metadata": {},
     "output_type": "execute_result"
    },
    {
     "data": {
      "image/png": "[encoded data removed]",
      "text/plain": [
       "<Figure size 640x480 with 1 Axes>"
      ]
     },
     "metadata": {},
     "output_type": "display_data"
    }
   ],
   "source": [
    "sns.scatterplot(x= accepted_loans['loan_amnt'],y =accepted_loans['installment'])"
   ]
  },
  {
   "cell_type": "code",
   "execution_count": 27,
   "id": "a99c7eb0",
   "metadata": {
    "execution": {
     "iopub.execute_input": "2023-05-25T04:29:42.404263Z",
     "iopub.status.busy": "2023-05-25T04:29:42.403304Z",
     "iopub.status.idle": "2023-05-25T04:29:42.898866Z",
     "shell.execute_reply": "2023-05-25T04:29:42.897705Z"
    },
    "papermill": {
     "duration": 0.524941,
     "end_time": "2023-05-25T04:29:42.901307",
     "exception": false,
     "start_time": "2023-05-25T04:29:42.376366",
     "status": "completed"
    },
    "tags": []
   },
   "outputs": [],
   "source": [
    "accepted_loans.drop('fico_range_low', inplace=True, axis=1)"
   ]
  },
  {
   "cell_type": "code",
   "execution_count": 28,
   "id": "ec510f4a",
   "metadata": {
    "execution": {
     "iopub.execute_input": "2023-05-25T04:29:42.954018Z",
     "iopub.status.busy": "2023-05-25T04:29:42.953608Z",
     "iopub.status.idle": "2023-05-25T04:29:46.691640Z",
     "shell.execute_reply": "2023-05-25T04:29:46.690538Z"
    },
    "papermill": {
     "duration": 3.767616,
     "end_time": "2023-05-25T04:29:46.694218",
     "exception": false,
     "start_time": "2023-05-25T04:29:42.926602",
     "status": "completed"
    },
    "tags": []
   },
   "outputs": [
    {
     "name": "stdout",
     "output_type": "stream",
     "text": [
      "<class 'pandas.core.frame.DataFrame'>\n",
      "Int64Index: 1345310 entries, 0 to 2260697\n",
      "Data columns (total 39 columns):\n",
      " #   Column                      Non-Null Count    Dtype  \n",
      "---  ------                      --------------    -----  \n",
      " 0   id                          1345310 non-null  object \n",
      " 1   loan_amnt                   1345310 non-null  float64\n",
      " 2   term                        1345310 non-null  object \n",
      " 3   int_rate                    1345310 non-null  float64\n",
      " 4   installment                 1345310 non-null  float64\n",
      " 5   grade                       1345310 non-null  object \n",
      " 6   sub_grade                   1345310 non-null  object \n",
      " 7   home_ownership              1345310 non-null  object \n",
      " 8   annual_inc                  1345310 non-null  float64\n",
      " 9   verification_status         1345310 non-null  object \n",
      " 10  loan_status                 1345310 non-null  object \n",
      " 11  pymnt_plan                  1345310 non-null  object \n",
      " 12  url                         1345310 non-null  object \n",
      " 13  purpose                     1345310 non-null  object \n",
      " 14  zip_code                    1345309 non-null  object \n",
      " 15  addr_state                  1345310 non-null  object \n",
      " 16  dti                         1344936 non-null  float64\n",
      " 17  delinq_2yrs                 1345310 non-null  float64\n",
      " 18  earliest_cr_line            1345310 non-null  object \n",
      " 19  fico_range_high             1345310 non-null  float64\n",
      " 20  inq_last_6mths              1345309 non-null  float64\n",
      " 21  open_acc                    1345310 non-null  float64\n",
      " 22  pub_rec                     1345310 non-null  float64\n",
      " 23  revol_bal                   1345310 non-null  float64\n",
      " 24  revol_util                  1344453 non-null  float64\n",
      " 25  total_acc                   1345310 non-null  float64\n",
      " 26  initial_list_status         1345310 non-null  object \n",
      " 27  last_pymnt_amnt             1345310 non-null  float64\n",
      " 28  last_credit_pull_d          1345255 non-null  object \n",
      " 29  collections_12_mths_ex_med  1345254 non-null  float64\n",
      " 30  application_type            1345310 non-null  object \n",
      " 31  acc_now_delinq              1345310 non-null  float64\n",
      " 32  chargeoff_within_12_mths    1345254 non-null  float64\n",
      " 33  delinq_amnt                 1345310 non-null  float64\n",
      " 34  pub_rec_bankruptcies        1344613 non-null  float64\n",
      " 35  tax_liens                   1345271 non-null  float64\n",
      " 36  hardship_flag               1345310 non-null  object \n",
      " 37  disbursement_method         1345310 non-null  object \n",
      " 38  debt_settlement_flag        1345310 non-null  object \n",
      "dtypes: float64(20), object(19)\n",
      "memory usage: 410.6+ MB\n"
     ]
    }
   ],
   "source": [
    "accepted_loans.info()"
   ]
  },
  {
   "cell_type": "markdown",
   "id": "9ec58fb5",
   "metadata": {
    "papermill": {
     "duration": 0.025943,
     "end_time": "2023-05-25T04:29:46.745761",
     "exception": false,
     "start_time": "2023-05-25T04:29:46.719818",
     "status": "completed"
    },
    "tags": []
   },
   "source": [
    "# Creating a new feature - loan_paid - that is 1 for 'Fully Paid' and 0 for 'Charged Off'"
   ]
  },
  {
   "cell_type": "code",
   "execution_count": 29,
   "id": "afb94f5a",
   "metadata": {
    "execution": {
     "iopub.execute_input": "2023-05-25T04:29:46.797933Z",
     "iopub.status.busy": "2023-05-25T04:29:46.797546Z",
     "iopub.status.idle": "2023-05-25T04:29:47.726440Z",
     "shell.execute_reply": "2023-05-25T04:29:47.725194Z"
    },
    "papermill": {
     "duration": 0.95835,
     "end_time": "2023-05-25T04:29:47.729081",
     "exception": false,
     "start_time": "2023-05-25T04:29:46.770731",
     "status": "completed"
    },
    "tags": []
   },
   "outputs": [],
   "source": [
    "accepted_loans['loan_paid'] = accepted_loans['loan_status'].replace({'Fully Paid': 1, 'Charged Off':0})\n",
    "accepted_loans = accepted_loans.drop(columns =['loan_status'])"
   ]
  },
  {
   "cell_type": "markdown",
   "id": "4873f8e7",
   "metadata": {
    "papermill": {
     "duration": 0.024918,
     "end_time": "2023-05-25T04:29:47.779518",
     "exception": false,
     "start_time": "2023-05-25T04:29:47.754600",
     "status": "completed"
    },
    "tags": []
   },
   "source": [
    "# Working on categorical features"
   ]
  },
  {
   "cell_type": "code",
   "execution_count": 30,
   "id": "139f6c4d",
   "metadata": {
    "execution": {
     "iopub.execute_input": "2023-05-25T04:29:47.832591Z",
     "iopub.status.busy": "2023-05-25T04:29:47.832213Z",
     "iopub.status.idle": "2023-05-25T04:29:51.295125Z",
     "shell.execute_reply": "2023-05-25T04:29:51.293962Z"
    },
    "papermill": {
     "duration": 3.492827,
     "end_time": "2023-05-25T04:29:51.297516",
     "exception": false,
     "start_time": "2023-05-25T04:29:47.804689",
     "status": "completed"
    },
    "tags": []
   },
   "outputs": [
    {
     "name": "stdout",
     "output_type": "stream",
     "text": [
      "<class 'pandas.core.frame.DataFrame'>\n",
      "Int64Index: 1345310 entries, 0 to 2260697\n",
      "Data columns (total 39 columns):\n",
      " #   Column                      Non-Null Count    Dtype  \n",
      "---  ------                      --------------    -----  \n",
      " 0   id                          1345310 non-null  object \n",
      " 1   loan_amnt                   1345310 non-null  float64\n",
      " 2   term                        1345310 non-null  object \n",
      " 3   int_rate                    1345310 non-null  float64\n",
      " 4   installment                 1345310 non-null  float64\n",
      " 5   grade                       1345310 non-null  object \n",
      " 6   sub_grade                   1345310 non-null  object \n",
      " 7   home_ownership              1345310 non-null  object \n",
      " 8   annual_inc                  1345310 non-null  float64\n",
      " 9   verification_status         1345310 non-null  object \n",
      " 10  pymnt_plan                  1345310 non-null  object \n",
      " 11  url                         1345310 non-null  object \n",
      " 12  purpose                     1345310 non-null  object \n",
      " 13  zip_code                    1345309 non-null  object \n",
      " 14  addr_state                  1345310 non-null  object \n",
      " 15  dti                         1344936 non-null  float64\n",
      " 16  delinq_2yrs                 1345310 non-null  float64\n",
      " 17  earliest_cr_line            1345310 non-null  object \n",
      " 18  fico_range_high             1345310 non-null  float64\n",
      " 19  inq_last_6mths              1345309 non-null  float64\n",
      " 20  open_acc                    1345310 non-null  float64\n",
      " 21  pub_rec                     1345310 non-null  float64\n",
      " 22  revol_bal                   1345310 non-null  float64\n",
      " 23  revol_util                  1344453 non-null  float64\n",
      " 24  total_acc                   1345310 non-null  float64\n",
      " 25  initial_list_status         1345310 non-null  object \n",
      " 26  last_pymnt_amnt             1345310 non-null  float64\n",
      " 27  last_credit_pull_d          1345255 non-null  object \n",
      " 28  collections_12_mths_ex_med  1345254 non-null  float64\n",
      " 29  application_type            1345310 non-null  object \n",
      " 30  acc_now_delinq              1345310 non-null  float64\n",
      " 31  chargeoff_within_12_mths    1345254 non-null  float64\n",
      " 32  delinq_amnt                 1345310 non-null  float64\n",
      " 33  pub_rec_bankruptcies        1344613 non-null  float64\n",
      " 34  tax_liens                   1345271 non-null  float64\n",
      " 35  hardship_flag               1345310 non-null  object \n",
      " 36  disbursement_method         1345310 non-null  object \n",
      " 37  debt_settlement_flag        1345310 non-null  object \n",
      " 38  loan_paid                   1345310 non-null  int64  \n",
      "dtypes: float64(20), int64(1), object(18)\n",
      "memory usage: 410.6+ MB\n"
     ]
    }
   ],
   "source": [
    "accepted_loans.info()"
   ]
  },
  {
   "cell_type": "code",
   "execution_count": 31,
   "id": "4150fcd9",
   "metadata": {
    "execution": {
     "iopub.execute_input": "2023-05-25T04:29:51.352469Z",
     "iopub.status.busy": "2023-05-25T04:29:51.351558Z",
     "iopub.status.idle": "2023-05-25T04:29:52.153210Z",
     "shell.execute_reply": "2023-05-25T04:29:52.152243Z"
    },
    "papermill": {
     "duration": 0.831489,
     "end_time": "2023-05-25T04:29:52.155463",
     "exception": false,
     "start_time": "2023-05-25T04:29:51.323974",
     "status": "completed"
    },
    "tags": []
   },
   "outputs": [
    {
     "name": "stdout",
     "output_type": "stream",
     "text": [
      "Index(['id', 'term', 'grade', 'sub_grade', 'home_ownership',\n",
      "       'verification_status', 'pymnt_plan', 'url', 'purpose', 'zip_code',\n",
      "       'addr_state', 'earliest_cr_line', 'initial_list_status',\n",
      "       'last_credit_pull_d', 'application_type', 'hardship_flag',\n",
      "       'disbursement_method', 'debt_settlement_flag'],\n",
      "      dtype='object')\n",
      "18\n"
     ]
    },
    {
     "data": {
      "text/html": [
       "<div>\n",
       "<style scoped>\n",
       "    .dataframe tbody tr th:only-of-type {\n",
       "        vertical-align: middle;\n",
       "    }\n",
       "\n",
       "    .dataframe tbody tr th {\n",
       "        vertical-align: top;\n",
       "    }\n",
       "\n",
       "    .dataframe thead th {\n",
       "        text-align: right;\n",
       "    }\n",
       "</style>\n",
       "<table border=\"1\" class=\"dataframe\">\n",
       "  <thead>\n",
       "    <tr style=\"text-align: right;\">\n",
       "      <th></th>\n",
       "      <th>id</th>\n",
       "      <th>term</th>\n",
       "      <th>grade</th>\n",
       "      <th>sub_grade</th>\n",
       "      <th>home_ownership</th>\n",
       "      <th>verification_status</th>\n",
       "      <th>pymnt_plan</th>\n",
       "      <th>url</th>\n",
       "      <th>purpose</th>\n",
       "      <th>zip_code</th>\n",
       "      <th>addr_state</th>\n",
       "      <th>earliest_cr_line</th>\n",
       "      <th>initial_list_status</th>\n",
       "      <th>last_credit_pull_d</th>\n",
       "      <th>application_type</th>\n",
       "      <th>hardship_flag</th>\n",
       "      <th>disbursement_method</th>\n",
       "      <th>debt_settlement_flag</th>\n",
       "    </tr>\n",
       "  </thead>\n",
       "  <tbody>\n",
       "    <tr>\n",
       "      <th>0</th>\n",
       "      <td>68407277</td>\n",
       "      <td>36 months</td>\n",
       "      <td>C</td>\n",
       "      <td>C4</td>\n",
       "      <td>MORTGAGE</td>\n",
       "      <td>Not Verified</td>\n",
       "      <td>n</td>\n",
       "      <td>https://lendingclub.com/browse/loanDetail.acti...</td>\n",
       "      <td>debt_consolidation</td>\n",
       "      <td>190xx</td>\n",
       "      <td>PA</td>\n",
       "      <td>Aug-2003</td>\n",
       "      <td>w</td>\n",
       "      <td>Mar-2019</td>\n",
       "      <td>Individual</td>\n",
       "      <td>N</td>\n",
       "      <td>Cash</td>\n",
       "      <td>N</td>\n",
       "    </tr>\n",
       "    <tr>\n",
       "      <th>1</th>\n",
       "      <td>68355089</td>\n",
       "      <td>36 months</td>\n",
       "      <td>C</td>\n",
       "      <td>C1</td>\n",
       "      <td>MORTGAGE</td>\n",
       "      <td>Not Verified</td>\n",
       "      <td>n</td>\n",
       "      <td>https://lendingclub.com/browse/loanDetail.acti...</td>\n",
       "      <td>small_business</td>\n",
       "      <td>577xx</td>\n",
       "      <td>SD</td>\n",
       "      <td>Dec-1999</td>\n",
       "      <td>w</td>\n",
       "      <td>Mar-2019</td>\n",
       "      <td>Individual</td>\n",
       "      <td>N</td>\n",
       "      <td>Cash</td>\n",
       "      <td>N</td>\n",
       "    </tr>\n",
       "    <tr>\n",
       "      <th>2</th>\n",
       "      <td>68341763</td>\n",
       "      <td>60 months</td>\n",
       "      <td>B</td>\n",
       "      <td>B4</td>\n",
       "      <td>MORTGAGE</td>\n",
       "      <td>Not Verified</td>\n",
       "      <td>n</td>\n",
       "      <td>https://lendingclub.com/browse/loanDetail.acti...</td>\n",
       "      <td>home_improvement</td>\n",
       "      <td>605xx</td>\n",
       "      <td>IL</td>\n",
       "      <td>Aug-2000</td>\n",
       "      <td>w</td>\n",
       "      <td>Mar-2019</td>\n",
       "      <td>Joint App</td>\n",
       "      <td>N</td>\n",
       "      <td>Cash</td>\n",
       "      <td>N</td>\n",
       "    </tr>\n",
       "    <tr>\n",
       "      <th>4</th>\n",
       "      <td>68476807</td>\n",
       "      <td>60 months</td>\n",
       "      <td>F</td>\n",
       "      <td>F1</td>\n",
       "      <td>MORTGAGE</td>\n",
       "      <td>Source Verified</td>\n",
       "      <td>n</td>\n",
       "      <td>https://lendingclub.com/browse/loanDetail.acti...</td>\n",
       "      <td>major_purchase</td>\n",
       "      <td>174xx</td>\n",
       "      <td>PA</td>\n",
       "      <td>Jun-1998</td>\n",
       "      <td>w</td>\n",
       "      <td>Mar-2018</td>\n",
       "      <td>Individual</td>\n",
       "      <td>N</td>\n",
       "      <td>Cash</td>\n",
       "      <td>N</td>\n",
       "    </tr>\n",
       "    <tr>\n",
       "      <th>5</th>\n",
       "      <td>68426831</td>\n",
       "      <td>36 months</td>\n",
       "      <td>C</td>\n",
       "      <td>C3</td>\n",
       "      <td>RENT</td>\n",
       "      <td>Source Verified</td>\n",
       "      <td>n</td>\n",
       "      <td>https://lendingclub.com/browse/loanDetail.acti...</td>\n",
       "      <td>debt_consolidation</td>\n",
       "      <td>300xx</td>\n",
       "      <td>GA</td>\n",
       "      <td>Oct-1987</td>\n",
       "      <td>w</td>\n",
       "      <td>May-2017</td>\n",
       "      <td>Individual</td>\n",
       "      <td>N</td>\n",
       "      <td>Cash</td>\n",
       "      <td>N</td>\n",
       "    </tr>\n",
       "    <tr>\n",
       "      <th>...</th>\n",
       "      <td>...</td>\n",
       "      <td>...</td>\n",
       "      <td>...</td>\n",
       "      <td>...</td>\n",
       "      <td>...</td>\n",
       "      <td>...</td>\n",
       "      <td>...</td>\n",
       "      <td>...</td>\n",
       "      <td>...</td>\n",
       "      <td>...</td>\n",
       "      <td>...</td>\n",
       "      <td>...</td>\n",
       "      <td>...</td>\n",
       "      <td>...</td>\n",
       "      <td>...</td>\n",
       "      <td>...</td>\n",
       "      <td>...</td>\n",
       "      <td>...</td>\n",
       "    </tr>\n",
       "    <tr>\n",
       "      <th>2260688</th>\n",
       "      <td>89905081</td>\n",
       "      <td>60 months</td>\n",
       "      <td>B</td>\n",
       "      <td>B2</td>\n",
       "      <td>OWN</td>\n",
       "      <td>Not Verified</td>\n",
       "      <td>n</td>\n",
       "      <td>https://lendingclub.com/browse/loanDetail.acti...</td>\n",
       "      <td>home_improvement</td>\n",
       "      <td>775xx</td>\n",
       "      <td>TX</td>\n",
       "      <td>Jul-2004</td>\n",
       "      <td>f</td>\n",
       "      <td>Mar-2019</td>\n",
       "      <td>Individual</td>\n",
       "      <td>N</td>\n",
       "      <td>Cash</td>\n",
       "      <td>N</td>\n",
       "    </tr>\n",
       "    <tr>\n",
       "      <th>2260690</th>\n",
       "      <td>88948836</td>\n",
       "      <td>60 months</td>\n",
       "      <td>C</td>\n",
       "      <td>C3</td>\n",
       "      <td>MORTGAGE</td>\n",
       "      <td>Not Verified</td>\n",
       "      <td>n</td>\n",
       "      <td>https://lendingclub.com/browse/loanDetail.acti...</td>\n",
       "      <td>debt_consolidation</td>\n",
       "      <td>900xx</td>\n",
       "      <td>CA</td>\n",
       "      <td>Mar-2002</td>\n",
       "      <td>f</td>\n",
       "      <td>Jul-2018</td>\n",
       "      <td>Individual</td>\n",
       "      <td>N</td>\n",
       "      <td>Cash</td>\n",
       "      <td>N</td>\n",
       "    </tr>\n",
       "    <tr>\n",
       "      <th>2260691</th>\n",
       "      <td>89996426</td>\n",
       "      <td>60 months</td>\n",
       "      <td>C</td>\n",
       "      <td>C4</td>\n",
       "      <td>MORTGAGE</td>\n",
       "      <td>Source Verified</td>\n",
       "      <td>n</td>\n",
       "      <td>https://lendingclub.com/browse/loanDetail.acti...</td>\n",
       "      <td>home_improvement</td>\n",
       "      <td>863xx</td>\n",
       "      <td>AZ</td>\n",
       "      <td>Jun-2011</td>\n",
       "      <td>f</td>\n",
       "      <td>Dec-2018</td>\n",
       "      <td>Individual</td>\n",
       "      <td>N</td>\n",
       "      <td>Cash</td>\n",
       "      <td>N</td>\n",
       "    </tr>\n",
       "    <tr>\n",
       "      <th>2260692</th>\n",
       "      <td>90006534</td>\n",
       "      <td>60 months</td>\n",
       "      <td>C</td>\n",
       "      <td>C1</td>\n",
       "      <td>RENT</td>\n",
       "      <td>Not Verified</td>\n",
       "      <td>n</td>\n",
       "      <td>https://lendingclub.com/browse/loanDetail.acti...</td>\n",
       "      <td>medical</td>\n",
       "      <td>284xx</td>\n",
       "      <td>NC</td>\n",
       "      <td>Aug-1997</td>\n",
       "      <td>f</td>\n",
       "      <td>Mar-2019</td>\n",
       "      <td>Individual</td>\n",
       "      <td>N</td>\n",
       "      <td>Cash</td>\n",
       "      <td>N</td>\n",
       "    </tr>\n",
       "    <tr>\n",
       "      <th>2260697</th>\n",
       "      <td>88224441</td>\n",
       "      <td>60 months</td>\n",
       "      <td>C</td>\n",
       "      <td>C4</td>\n",
       "      <td>RENT</td>\n",
       "      <td>Not Verified</td>\n",
       "      <td>n</td>\n",
       "      <td>https://lendingclub.com/browse/loanDetail.acti...</td>\n",
       "      <td>debt_consolidation</td>\n",
       "      <td>334xx</td>\n",
       "      <td>FL</td>\n",
       "      <td>Jul-1999</td>\n",
       "      <td>f</td>\n",
       "      <td>Mar-2019</td>\n",
       "      <td>Individual</td>\n",
       "      <td>N</td>\n",
       "      <td>Cash</td>\n",
       "      <td>Y</td>\n",
       "    </tr>\n",
       "  </tbody>\n",
       "</table>\n",
       "<p>1345310 rows × 18 columns</p>\n",
       "</div>"
      ],
      "text/plain": [
       "               id        term grade sub_grade home_ownership  \\\n",
       "0        68407277   36 months     C        C4       MORTGAGE   \n",
       "1        68355089   36 months     C        C1       MORTGAGE   \n",
       "2        68341763   60 months     B        B4       MORTGAGE   \n",
       "4        68476807   60 months     F        F1       MORTGAGE   \n",
       "5        68426831   36 months     C        C3           RENT   \n",
       "...           ...         ...   ...       ...            ...   \n",
       "2260688  89905081   60 months     B        B2            OWN   \n",
       "2260690  88948836   60 months     C        C3       MORTGAGE   \n",
       "2260691  89996426   60 months     C        C4       MORTGAGE   \n",
       "2260692  90006534   60 months     C        C1           RENT   \n",
       "2260697  88224441   60 months     C        C4           RENT   \n",
       "\n",
       "        verification_status pymnt_plan  \\\n",
       "0              Not Verified          n   \n",
       "1              Not Verified          n   \n",
       "2              Not Verified          n   \n",
       "4           Source Verified          n   \n",
       "5           Source Verified          n   \n",
       "...                     ...        ...   \n",
       "2260688        Not Verified          n   \n",
       "2260690        Not Verified          n   \n",
       "2260691     Source Verified          n   \n",
       "2260692        Not Verified          n   \n",
       "2260697        Not Verified          n   \n",
       "\n",
       "                                                       url  \\\n",
       "0        https://lendingclub.com/browse/loanDetail.acti...   \n",
       "1        https://lendingclub.com/browse/loanDetail.acti...   \n",
       "2        https://lendingclub.com/browse/loanDetail.acti...   \n",
       "4        https://lendingclub.com/browse/loanDetail.acti...   \n",
       "5        https://lendingclub.com/browse/loanDetail.acti...   \n",
       "...                                                    ...   \n",
       "2260688  https://lendingclub.com/browse/loanDetail.acti...   \n",
       "2260690  https://lendingclub.com/browse/loanDetail.acti...   \n",
       "2260691  https://lendingclub.com/browse/loanDetail.acti...   \n",
       "2260692  https://lendingclub.com/browse/loanDetail.acti...   \n",
       "2260697  https://lendingclub.com/browse/loanDetail.acti...   \n",
       "\n",
       "                    purpose zip_code addr_state earliest_cr_line  \\\n",
       "0        debt_consolidation    190xx         PA         Aug-2003   \n",
       "1            small_business    577xx         SD         Dec-1999   \n",
       "2          home_improvement    605xx         IL         Aug-2000   \n",
       "4            major_purchase    174xx         PA         Jun-1998   \n",
       "5        debt_consolidation    300xx         GA         Oct-1987   \n",
       "...                     ...      ...        ...              ...   \n",
       "2260688    home_improvement    775xx         TX         Jul-2004   \n",
       "2260690  debt_consolidation    900xx         CA         Mar-2002   \n",
       "2260691    home_improvement    863xx         AZ         Jun-2011   \n",
       "2260692             medical    284xx         NC         Aug-1997   \n",
       "2260697  debt_consolidation    334xx         FL         Jul-1999   \n",
       "\n",
       "        initial_list_status last_credit_pull_d application_type hardship_flag  \\\n",
       "0                         w           Mar-2019       Individual             N   \n",
       "1                         w           Mar-2019       Individual             N   \n",
       "2                         w           Mar-2019        Joint App             N   \n",
       "4                         w           Mar-2018       Individual             N   \n",
       "5                         w           May-2017       Individual             N   \n",
       "...                     ...                ...              ...           ...   \n",
       "2260688                   f           Mar-2019       Individual             N   \n",
       "2260690                   f           Jul-2018       Individual             N   \n",
       "2260691                   f           Dec-2018       Individual             N   \n",
       "2260692                   f           Mar-2019       Individual             N   \n",
       "2260697                   f           Mar-2019       Individual             N   \n",
       "\n",
       "        disbursement_method debt_settlement_flag  \n",
       "0                      Cash                    N  \n",
       "1                      Cash                    N  \n",
       "2                      Cash                    N  \n",
       "4                      Cash                    N  \n",
       "5                      Cash                    N  \n",
       "...                     ...                  ...  \n",
       "2260688                Cash                    N  \n",
       "2260690                Cash                    N  \n",
       "2260691                Cash                    N  \n",
       "2260692                Cash                    N  \n",
       "2260697                Cash                    Y  \n",
       "\n",
       "[1345310 rows x 18 columns]"
      ]
     },
     "execution_count": 31,
     "metadata": {},
     "output_type": "execute_result"
    }
   ],
   "source": [
    "categorical_columns = accepted_loans.select_dtypes(include='object').columns\n",
    "print(categorical_columns)\n",
    "print(len(categorical_columns))\n",
    "accepted_loans[categorical_columns]"
   ]
  },
  {
   "cell_type": "code",
   "execution_count": 32,
   "id": "aa8cb2cd",
   "metadata": {
    "execution": {
     "iopub.execute_input": "2023-05-25T04:29:52.209624Z",
     "iopub.status.busy": "2023-05-25T04:29:52.209274Z",
     "iopub.status.idle": "2023-05-25T04:29:52.338684Z",
     "shell.execute_reply": "2023-05-25T04:29:52.337895Z"
    },
    "papermill": {
     "duration": 0.158843,
     "end_time": "2023-05-25T04:29:52.340717",
     "exception": false,
     "start_time": "2023-05-25T04:29:52.181874",
     "status": "completed"
    },
    "tags": []
   },
   "outputs": [
    {
     "name": "stdout",
     "output_type": "stream",
     "text": [
      "n    1345310\n",
      "Name: pymnt_plan, dtype: int64\n",
      "N    1345310\n",
      "Name: hardship_flag, dtype: int64\n"
     ]
    }
   ],
   "source": [
    "print(accepted_loans['pymnt_plan'].value_counts())\n",
    "print(accepted_loans['hardship_flag'].value_counts())"
   ]
  },
  {
   "cell_type": "code",
   "execution_count": 33,
   "id": "bf721244",
   "metadata": {
    "execution": {
     "iopub.execute_input": "2023-05-25T04:29:52.394680Z",
     "iopub.status.busy": "2023-05-25T04:29:52.394283Z",
     "iopub.status.idle": "2023-05-25T04:29:52.825514Z",
     "shell.execute_reply": "2023-05-25T04:29:52.824277Z"
    },
    "papermill": {
     "duration": 0.460816,
     "end_time": "2023-05-25T04:29:52.827903",
     "exception": false,
     "start_time": "2023-05-25T04:29:52.367087",
     "status": "completed"
    },
    "tags": []
   },
   "outputs": [
    {
     "data": {
      "text/plain": [
       "(1345310, 36)"
      ]
     },
     "execution_count": 33,
     "metadata": {},
     "output_type": "execute_result"
    }
   ],
   "source": [
    "# Dropping features 'id', 'pymnt_plan' and 'hardship_flag' (constant features)\n",
    "dropping_columns =['id', 'pymnt_plan', 'hardship_flag']\n",
    "accepted_loans = accepted_loans.drop(columns = dropping_columns)\n",
    "accepted_loans.shape"
   ]
  },
  {
   "cell_type": "code",
   "execution_count": 34,
   "id": "f5f4e790",
   "metadata": {
    "execution": {
     "iopub.execute_input": "2023-05-25T04:29:52.883216Z",
     "iopub.status.busy": "2023-05-25T04:29:52.882833Z",
     "iopub.status.idle": "2023-05-25T04:29:53.536235Z",
     "shell.execute_reply": "2023-05-25T04:29:53.535105Z"
    },
    "papermill": {
     "duration": 0.683681,
     "end_time": "2023-05-25T04:29:53.538391",
     "exception": false,
     "start_time": "2023-05-25T04:29:52.854710",
     "status": "completed"
    },
    "tags": []
   },
   "outputs": [
    {
     "name": "stdout",
     "output_type": "stream",
     "text": [
      "Index(['term', 'grade', 'sub_grade', 'home_ownership', 'verification_status',\n",
      "       'url', 'purpose', 'zip_code', 'addr_state', 'earliest_cr_line',\n",
      "       'initial_list_status', 'last_credit_pull_d', 'application_type',\n",
      "       'disbursement_method', 'debt_settlement_flag'],\n",
      "      dtype='object')\n",
      "15\n"
     ]
    },
    {
     "data": {
      "text/html": [
       "<div>\n",
       "<style scoped>\n",
       "    .dataframe tbody tr th:only-of-type {\n",
       "        vertical-align: middle;\n",
       "    }\n",
       "\n",
       "    .dataframe tbody tr th {\n",
       "        vertical-align: top;\n",
       "    }\n",
       "\n",
       "    .dataframe thead th {\n",
       "        text-align: right;\n",
       "    }\n",
       "</style>\n",
       "<table border=\"1\" class=\"dataframe\">\n",
       "  <thead>\n",
       "    <tr style=\"text-align: right;\">\n",
       "      <th></th>\n",
       "      <th>term</th>\n",
       "      <th>grade</th>\n",
       "      <th>sub_grade</th>\n",
       "      <th>home_ownership</th>\n",
       "      <th>verification_status</th>\n",
       "      <th>url</th>\n",
       "      <th>purpose</th>\n",
       "      <th>zip_code</th>\n",
       "      <th>addr_state</th>\n",
       "      <th>earliest_cr_line</th>\n",
       "      <th>initial_list_status</th>\n",
       "      <th>last_credit_pull_d</th>\n",
       "      <th>application_type</th>\n",
       "      <th>disbursement_method</th>\n",
       "      <th>debt_settlement_flag</th>\n",
       "    </tr>\n",
       "  </thead>\n",
       "  <tbody>\n",
       "    <tr>\n",
       "      <th>0</th>\n",
       "      <td>36 months</td>\n",
       "      <td>C</td>\n",
       "      <td>C4</td>\n",
       "      <td>MORTGAGE</td>\n",
       "      <td>Not Verified</td>\n",
       "      <td>https://lendingclub.com/browse/loanDetail.acti...</td>\n",
       "      <td>debt_consolidation</td>\n",
       "      <td>190xx</td>\n",
       "      <td>PA</td>\n",
       "      <td>Aug-2003</td>\n",
       "      <td>w</td>\n",
       "      <td>Mar-2019</td>\n",
       "      <td>Individual</td>\n",
       "      <td>Cash</td>\n",
       "      <td>N</td>\n",
       "    </tr>\n",
       "    <tr>\n",
       "      <th>1</th>\n",
       "      <td>36 months</td>\n",
       "      <td>C</td>\n",
       "      <td>C1</td>\n",
       "      <td>MORTGAGE</td>\n",
       "      <td>Not Verified</td>\n",
       "      <td>https://lendingclub.com/browse/loanDetail.acti...</td>\n",
       "      <td>small_business</td>\n",
       "      <td>577xx</td>\n",
       "      <td>SD</td>\n",
       "      <td>Dec-1999</td>\n",
       "      <td>w</td>\n",
       "      <td>Mar-2019</td>\n",
       "      <td>Individual</td>\n",
       "      <td>Cash</td>\n",
       "      <td>N</td>\n",
       "    </tr>\n",
       "    <tr>\n",
       "      <th>2</th>\n",
       "      <td>60 months</td>\n",
       "      <td>B</td>\n",
       "      <td>B4</td>\n",
       "      <td>MORTGAGE</td>\n",
       "      <td>Not Verified</td>\n",
       "      <td>https://lendingclub.com/browse/loanDetail.acti...</td>\n",
       "      <td>home_improvement</td>\n",
       "      <td>605xx</td>\n",
       "      <td>IL</td>\n",
       "      <td>Aug-2000</td>\n",
       "      <td>w</td>\n",
       "      <td>Mar-2019</td>\n",
       "      <td>Joint App</td>\n",
       "      <td>Cash</td>\n",
       "      <td>N</td>\n",
       "    </tr>\n",
       "    <tr>\n",
       "      <th>4</th>\n",
       "      <td>60 months</td>\n",
       "      <td>F</td>\n",
       "      <td>F1</td>\n",
       "      <td>MORTGAGE</td>\n",
       "      <td>Source Verified</td>\n",
       "      <td>https://lendingclub.com/browse/loanDetail.acti...</td>\n",
       "      <td>major_purchase</td>\n",
       "      <td>174xx</td>\n",
       "      <td>PA</td>\n",
       "      <td>Jun-1998</td>\n",
       "      <td>w</td>\n",
       "      <td>Mar-2018</td>\n",
       "      <td>Individual</td>\n",
       "      <td>Cash</td>\n",
       "      <td>N</td>\n",
       "    </tr>\n",
       "    <tr>\n",
       "      <th>5</th>\n",
       "      <td>36 months</td>\n",
       "      <td>C</td>\n",
       "      <td>C3</td>\n",
       "      <td>RENT</td>\n",
       "      <td>Source Verified</td>\n",
       "      <td>https://lendingclub.com/browse/loanDetail.acti...</td>\n",
       "      <td>debt_consolidation</td>\n",
       "      <td>300xx</td>\n",
       "      <td>GA</td>\n",
       "      <td>Oct-1987</td>\n",
       "      <td>w</td>\n",
       "      <td>May-2017</td>\n",
       "      <td>Individual</td>\n",
       "      <td>Cash</td>\n",
       "      <td>N</td>\n",
       "    </tr>\n",
       "    <tr>\n",
       "      <th>...</th>\n",
       "      <td>...</td>\n",
       "      <td>...</td>\n",
       "      <td>...</td>\n",
       "      <td>...</td>\n",
       "      <td>...</td>\n",
       "      <td>...</td>\n",
       "      <td>...</td>\n",
       "      <td>...</td>\n",
       "      <td>...</td>\n",
       "      <td>...</td>\n",
       "      <td>...</td>\n",
       "      <td>...</td>\n",
       "      <td>...</td>\n",
       "      <td>...</td>\n",
       "      <td>...</td>\n",
       "    </tr>\n",
       "    <tr>\n",
       "      <th>2260688</th>\n",
       "      <td>60 months</td>\n",
       "      <td>B</td>\n",
       "      <td>B2</td>\n",
       "      <td>OWN</td>\n",
       "      <td>Not Verified</td>\n",
       "      <td>https://lendingclub.com/browse/loanDetail.acti...</td>\n",
       "      <td>home_improvement</td>\n",
       "      <td>775xx</td>\n",
       "      <td>TX</td>\n",
       "      <td>Jul-2004</td>\n",
       "      <td>f</td>\n",
       "      <td>Mar-2019</td>\n",
       "      <td>Individual</td>\n",
       "      <td>Cash</td>\n",
       "      <td>N</td>\n",
       "    </tr>\n",
       "    <tr>\n",
       "      <th>2260690</th>\n",
       "      <td>60 months</td>\n",
       "      <td>C</td>\n",
       "      <td>C3</td>\n",
       "      <td>MORTGAGE</td>\n",
       "      <td>Not Verified</td>\n",
       "      <td>https://lendingclub.com/browse/loanDetail.acti...</td>\n",
       "      <td>debt_consolidation</td>\n",
       "      <td>900xx</td>\n",
       "      <td>CA</td>\n",
       "      <td>Mar-2002</td>\n",
       "      <td>f</td>\n",
       "      <td>Jul-2018</td>\n",
       "      <td>Individual</td>\n",
       "      <td>Cash</td>\n",
       "      <td>N</td>\n",
       "    </tr>\n",
       "    <tr>\n",
       "      <th>2260691</th>\n",
       "      <td>60 months</td>\n",
       "      <td>C</td>\n",
       "      <td>C4</td>\n",
       "      <td>MORTGAGE</td>\n",
       "      <td>Source Verified</td>\n",
       "      <td>https://lendingclub.com/browse/loanDetail.acti...</td>\n",
       "      <td>home_improvement</td>\n",
       "      <td>863xx</td>\n",
       "      <td>AZ</td>\n",
       "      <td>Jun-2011</td>\n",
       "      <td>f</td>\n",
       "      <td>Dec-2018</td>\n",
       "      <td>Individual</td>\n",
       "      <td>Cash</td>\n",
       "      <td>N</td>\n",
       "    </tr>\n",
       "    <tr>\n",
       "      <th>2260692</th>\n",
       "      <td>60 months</td>\n",
       "      <td>C</td>\n",
       "      <td>C1</td>\n",
       "      <td>RENT</td>\n",
       "      <td>Not Verified</td>\n",
       "      <td>https://lendingclub.com/browse/loanDetail.acti...</td>\n",
       "      <td>medical</td>\n",
       "      <td>284xx</td>\n",
       "      <td>NC</td>\n",
       "      <td>Aug-1997</td>\n",
       "      <td>f</td>\n",
       "      <td>Mar-2019</td>\n",
       "      <td>Individual</td>\n",
       "      <td>Cash</td>\n",
       "      <td>N</td>\n",
       "    </tr>\n",
       "    <tr>\n",
       "      <th>2260697</th>\n",
       "      <td>60 months</td>\n",
       "      <td>C</td>\n",
       "      <td>C4</td>\n",
       "      <td>RENT</td>\n",
       "      <td>Not Verified</td>\n",
       "      <td>https://lendingclub.com/browse/loanDetail.acti...</td>\n",
       "      <td>debt_consolidation</td>\n",
       "      <td>334xx</td>\n",
       "      <td>FL</td>\n",
       "      <td>Jul-1999</td>\n",
       "      <td>f</td>\n",
       "      <td>Mar-2019</td>\n",
       "      <td>Individual</td>\n",
       "      <td>Cash</td>\n",
       "      <td>Y</td>\n",
       "    </tr>\n",
       "  </tbody>\n",
       "</table>\n",
       "<p>1345310 rows × 15 columns</p>\n",
       "</div>"
      ],
      "text/plain": [
       "               term grade sub_grade home_ownership verification_status  \\\n",
       "0         36 months     C        C4       MORTGAGE        Not Verified   \n",
       "1         36 months     C        C1       MORTGAGE        Not Verified   \n",
       "2         60 months     B        B4       MORTGAGE        Not Verified   \n",
       "4         60 months     F        F1       MORTGAGE     Source Verified   \n",
       "5         36 months     C        C3           RENT     Source Verified   \n",
       "...             ...   ...       ...            ...                 ...   \n",
       "2260688   60 months     B        B2            OWN        Not Verified   \n",
       "2260690   60 months     C        C3       MORTGAGE        Not Verified   \n",
       "2260691   60 months     C        C4       MORTGAGE     Source Verified   \n",
       "2260692   60 months     C        C1           RENT        Not Verified   \n",
       "2260697   60 months     C        C4           RENT        Not Verified   \n",
       "\n",
       "                                                       url  \\\n",
       "0        https://lendingclub.com/browse/loanDetail.acti...   \n",
       "1        https://lendingclub.com/browse/loanDetail.acti...   \n",
       "2        https://lendingclub.com/browse/loanDetail.acti...   \n",
       "4        https://lendingclub.com/browse/loanDetail.acti...   \n",
       "5        https://lendingclub.com/browse/loanDetail.acti...   \n",
       "...                                                    ...   \n",
       "2260688  https://lendingclub.com/browse/loanDetail.acti...   \n",
       "2260690  https://lendingclub.com/browse/loanDetail.acti...   \n",
       "2260691  https://lendingclub.com/browse/loanDetail.acti...   \n",
       "2260692  https://lendingclub.com/browse/loanDetail.acti...   \n",
       "2260697  https://lendingclub.com/browse/loanDetail.acti...   \n",
       "\n",
       "                    purpose zip_code addr_state earliest_cr_line  \\\n",
       "0        debt_consolidation    190xx         PA         Aug-2003   \n",
       "1            small_business    577xx         SD         Dec-1999   \n",
       "2          home_improvement    605xx         IL         Aug-2000   \n",
       "4            major_purchase    174xx         PA         Jun-1998   \n",
       "5        debt_consolidation    300xx         GA         Oct-1987   \n",
       "...                     ...      ...        ...              ...   \n",
       "2260688    home_improvement    775xx         TX         Jul-2004   \n",
       "2260690  debt_consolidation    900xx         CA         Mar-2002   \n",
       "2260691    home_improvement    863xx         AZ         Jun-2011   \n",
       "2260692             medical    284xx         NC         Aug-1997   \n",
       "2260697  debt_consolidation    334xx         FL         Jul-1999   \n",
       "\n",
       "        initial_list_status last_credit_pull_d application_type  \\\n",
       "0                         w           Mar-2019       Individual   \n",
       "1                         w           Mar-2019       Individual   \n",
       "2                         w           Mar-2019        Joint App   \n",
       "4                         w           Mar-2018       Individual   \n",
       "5                         w           May-2017       Individual   \n",
       "...                     ...                ...              ...   \n",
       "2260688                   f           Mar-2019       Individual   \n",
       "2260690                   f           Jul-2018       Individual   \n",
       "2260691                   f           Dec-2018       Individual   \n",
       "2260692                   f           Mar-2019       Individual   \n",
       "2260697                   f           Mar-2019       Individual   \n",
       "\n",
       "        disbursement_method debt_settlement_flag  \n",
       "0                      Cash                    N  \n",
       "1                      Cash                    N  \n",
       "2                      Cash                    N  \n",
       "4                      Cash                    N  \n",
       "5                      Cash                    N  \n",
       "...                     ...                  ...  \n",
       "2260688                Cash                    N  \n",
       "2260690                Cash                    N  \n",
       "2260691                Cash                    N  \n",
       "2260692                Cash                    N  \n",
       "2260697                Cash                    Y  \n",
       "\n",
       "[1345310 rows x 15 columns]"
      ]
     },
     "execution_count": 34,
     "metadata": {},
     "output_type": "execute_result"
    }
   ],
   "source": [
    "categorical_columns = accepted_loans.select_dtypes(include='object').columns\n",
    "print(categorical_columns)\n",
    "print(len(categorical_columns))\n",
    "accepted_loans[categorical_columns]"
   ]
  },
  {
   "cell_type": "markdown",
   "id": "91bf8e0e",
   "metadata": {
    "papermill": {
     "duration": 0.026496,
     "end_time": "2023-05-25T04:29:53.592584",
     "exception": false,
     "start_time": "2023-05-25T04:29:53.566088",
     "status": "completed"
    },
    "tags": []
   },
   "source": [
    "**Feature 'term'**"
   ]
  },
  {
   "cell_type": "code",
   "execution_count": 35,
   "id": "dbf5ab88",
   "metadata": {
    "execution": {
     "iopub.execute_input": "2023-05-25T04:29:53.650870Z",
     "iopub.status.busy": "2023-05-25T04:29:53.649848Z",
     "iopub.status.idle": "2023-05-25T04:29:53.747442Z",
     "shell.execute_reply": "2023-05-25T04:29:53.746128Z"
    },
    "papermill": {
     "duration": 0.130008,
     "end_time": "2023-05-25T04:29:53.749638",
     "exception": false,
     "start_time": "2023-05-25T04:29:53.619630",
     "status": "completed"
    },
    "tags": []
   },
   "outputs": [
    {
     "name": "stdout",
     "output_type": "stream",
     "text": [
      " 36 months    1020743\n",
      " 60 months     324567\n",
      "Name: term, dtype: int64\n"
     ]
    }
   ],
   "source": [
    "print(accepted_loans['term'].value_counts())"
   ]
  },
  {
   "cell_type": "code",
   "execution_count": 36,
   "id": "d773c043",
   "metadata": {
    "execution": {
     "iopub.execute_input": "2023-05-25T04:29:53.805307Z",
     "iopub.status.busy": "2023-05-25T04:29:53.804229Z",
     "iopub.status.idle": "2023-05-25T04:29:54.949196Z",
     "shell.execute_reply": "2023-05-25T04:29:54.948204Z"
    },
    "papermill": {
     "duration": 1.175185,
     "end_time": "2023-05-25T04:29:54.951482",
     "exception": false,
     "start_time": "2023-05-25T04:29:53.776297",
     "status": "completed"
    },
    "tags": []
   },
   "outputs": [
    {
     "data": {
      "text/plain": [
       "0          36\n",
       "1          36\n",
       "2          60\n",
       "4          60\n",
       "5          36\n",
       "           ..\n",
       "2260688    60\n",
       "2260690    60\n",
       "2260691    60\n",
       "2260692    60\n",
       "2260697    60\n",
       "Name: term, Length: 1345310, dtype: int64"
      ]
     },
     "execution_count": 36,
     "metadata": {},
     "output_type": "execute_result"
    }
   ],
   "source": [
    "# convert 'term' into either a 36 or 60 integer numeric data type\n",
    "accepted_loans['term'] = accepted_loans['term'].str.strip().replace({'36 months': 36, '60 months': 60}) \n",
    "accepted_loans['term']"
   ]
  },
  {
   "cell_type": "code",
   "execution_count": 37,
   "id": "5fee53f1",
   "metadata": {
    "execution": {
     "iopub.execute_input": "2023-05-25T04:29:55.008257Z",
     "iopub.status.busy": "2023-05-25T04:29:55.007305Z",
     "iopub.status.idle": "2023-05-25T04:29:55.374581Z",
     "shell.execute_reply": "2023-05-25T04:29:55.373797Z"
    },
    "papermill": {
     "duration": 0.398317,
     "end_time": "2023-05-25T04:29:55.376867",
     "exception": false,
     "start_time": "2023-05-25T04:29:54.978550",
     "status": "completed"
    },
    "tags": []
   },
   "outputs": [
    {
     "name": "stdout",
     "output_type": "stream",
     "text": [
      "Index(['grade', 'sub_grade', 'home_ownership', 'verification_status', 'url',\n",
      "       'purpose', 'zip_code', 'addr_state', 'earliest_cr_line',\n",
      "       'initial_list_status', 'last_credit_pull_d', 'application_type',\n",
      "       'disbursement_method', 'debt_settlement_flag'],\n",
      "      dtype='object')\n",
      "14\n"
     ]
    }
   ],
   "source": [
    "categorical_columns = accepted_loans.select_dtypes(include='object').columns\n",
    "print(categorical_columns)\n",
    "print(len(categorical_columns))"
   ]
  },
  {
   "cell_type": "markdown",
   "id": "aa3ac1d1",
   "metadata": {
    "papermill": {
     "duration": 0.026749,
     "end_time": "2023-05-25T04:29:55.430947",
     "exception": false,
     "start_time": "2023-05-25T04:29:55.404198",
     "status": "completed"
    },
    "tags": []
   },
   "source": [
    "**Features \"grade\" and \"sub_grade\"**"
   ]
  },
  {
   "cell_type": "code",
   "execution_count": 38,
   "id": "dcc64c07",
   "metadata": {
    "execution": {
     "iopub.execute_input": "2023-05-25T04:29:55.486780Z",
     "iopub.status.busy": "2023-05-25T04:29:55.486378Z",
     "iopub.status.idle": "2023-05-25T04:29:55.553786Z",
     "shell.execute_reply": "2023-05-25T04:29:55.552751Z"
    },
    "papermill": {
     "duration": 0.098233,
     "end_time": "2023-05-25T04:29:55.556146",
     "exception": false,
     "start_time": "2023-05-25T04:29:55.457913",
     "status": "completed"
    },
    "tags": []
   },
   "outputs": [
    {
     "name": "stdout",
     "output_type": "stream",
     "text": [
      "B    392741\n",
      "C    381686\n",
      "A    235090\n",
      "D    200953\n",
      "E     93650\n",
      "F     32058\n",
      "G      9132\n",
      "Name: grade, dtype: int64\n"
     ]
    }
   ],
   "source": [
    "print(accepted_loans['grade'].value_counts())"
   ]
  },
  {
   "cell_type": "code",
   "execution_count": 39,
   "id": "1f08d356",
   "metadata": {
    "execution": {
     "iopub.execute_input": "2023-05-25T04:29:55.612270Z",
     "iopub.status.busy": "2023-05-25T04:29:55.611304Z",
     "iopub.status.idle": "2023-05-25T04:29:55.706889Z",
     "shell.execute_reply": "2023-05-25T04:29:55.705530Z"
    },
    "papermill": {
     "duration": 0.125945,
     "end_time": "2023-05-25T04:29:55.709017",
     "exception": false,
     "start_time": "2023-05-25T04:29:55.583072",
     "status": "completed"
    },
    "tags": []
   },
   "outputs": [
    {
     "name": "stdout",
     "output_type": "stream",
     "text": [
      "C1    85494\n",
      "B4    83199\n",
      "B5    82538\n",
      "B3    81827\n",
      "C2    79213\n",
      "C3    74998\n",
      "C4    74421\n",
      "B2    74024\n",
      "B1    71153\n",
      "C5    67560\n",
      "A5    64003\n",
      "A4    52235\n",
      "D1    51321\n",
      "D2    44848\n",
      "A1    43678\n",
      "D3    39317\n",
      "A3    37996\n",
      "A2    37178\n",
      "D4    35566\n",
      "D5    29901\n",
      "E1    23749\n",
      "E2    21377\n",
      "E3    18387\n",
      "E4    15720\n",
      "E5    14417\n",
      "F1     9970\n",
      "F2     7198\n",
      "F3     6088\n",
      "F4     4859\n",
      "F5     3943\n",
      "G1     2997\n",
      "G2     2131\n",
      "G3     1614\n",
      "G4     1280\n",
      "G5     1110\n",
      "Name: sub_grade, dtype: int64\n"
     ]
    }
   ],
   "source": [
    "print(accepted_loans['sub_grade'].value_counts())"
   ]
  },
  {
   "cell_type": "code",
   "execution_count": 40,
   "id": "35ac11ef",
   "metadata": {
    "execution": {
     "iopub.execute_input": "2023-05-25T04:29:55.764680Z",
     "iopub.status.busy": "2023-05-25T04:29:55.763665Z",
     "iopub.status.idle": "2023-05-25T04:29:57.043115Z",
     "shell.execute_reply": "2023-05-25T04:29:57.042015Z"
    },
    "papermill": {
     "duration": 1.309444,
     "end_time": "2023-05-25T04:29:57.045255",
     "exception": false,
     "start_time": "2023-05-25T04:29:55.735811",
     "status": "completed"
    },
    "tags": []
   },
   "outputs": [
    {
     "data": {
      "text/plain": [
       "<AxesSubplot: xlabel='grade', ylabel='count'>"
      ]
     },
     "execution_count": 40,
     "metadata": {},
     "output_type": "execute_result"
    },
    {
     "data": {
      "image/png": "[encoded data removed]",
      "text/plain": [
       "<Figure size 1200x700 with 1 Axes>"
      ]
     },
     "metadata": {},
     "output_type": "display_data"
    }
   ],
   "source": [
    "# checking count per grade and loan_paid\n",
    "plt.figure(figsize=(12,7))\n",
    "sns.countplot(x= accepted_loans['grade'], hue=accepted_loans['loan_paid'])"
   ]
  },
  {
   "cell_type": "code",
   "execution_count": 41,
   "id": "bf935be6",
   "metadata": {
    "execution": {
     "iopub.execute_input": "2023-05-25T04:29:57.102670Z",
     "iopub.status.busy": "2023-05-25T04:29:57.102144Z",
     "iopub.status.idle": "2023-05-25T04:29:58.726343Z",
     "shell.execute_reply": "2023-05-25T04:29:58.725299Z"
    },
    "papermill": {
     "duration": 1.655396,
     "end_time": "2023-05-25T04:29:58.728514",
     "exception": false,
     "start_time": "2023-05-25T04:29:57.073118",
     "status": "completed"
    },
    "tags": []
   },
   "outputs": [
    {
     "data": {
      "text/plain": [
       "<AxesSubplot: xlabel='sub_grade', ylabel='count'>"
      ]
     },
     "execution_count": 41,
     "metadata": {},
     "output_type": "execute_result"
    },
    {
     "data": {
      "image/png": "[encoded data removed]",
      "text/plain": [
       "<Figure size 1200x700 with 1 Axes>"
      ]
     },
     "metadata": {},
     "output_type": "display_data"
    }
   ],
   "source": [
    "# checking count per subgrade and loan_paid\n",
    "plt.figure(figsize=(12,7))\n",
    "sns.countplot(x=accepted_loans['sub_grade'], hue = accepted_loans['loan_paid'])"
   ]
  },
  {
   "cell_type": "code",
   "execution_count": 42,
   "id": "8904fa6b",
   "metadata": {
    "execution": {
     "iopub.execute_input": "2023-05-25T04:29:58.786619Z",
     "iopub.status.busy": "2023-05-25T04:29:58.785979Z",
     "iopub.status.idle": "2023-05-25T04:29:59.163061Z",
     "shell.execute_reply": "2023-05-25T04:29:59.161675Z"
    },
    "papermill": {
     "duration": 0.408924,
     "end_time": "2023-05-25T04:29:59.165563",
     "exception": false,
     "start_time": "2023-05-25T04:29:58.756639",
     "status": "completed"
    },
    "tags": []
   },
   "outputs": [],
   "source": [
    "# Since grade is part of sub_grade, so let's just drop the grade feature\n",
    "accepted_loans = accepted_loans.drop(columns ='grade')"
   ]
  },
  {
   "cell_type": "code",
   "execution_count": 43,
   "id": "240a6cf1",
   "metadata": {
    "execution": {
     "iopub.execute_input": "2023-05-25T04:29:59.223508Z",
     "iopub.status.busy": "2023-05-25T04:29:59.222606Z",
     "iopub.status.idle": "2023-05-25T04:30:00.258416Z",
     "shell.execute_reply": "2023-05-25T04:30:00.257486Z"
    },
    "papermill": {
     "duration": 1.067651,
     "end_time": "2023-05-25T04:30:00.261129",
     "exception": false,
     "start_time": "2023-05-25T04:29:59.193478",
     "status": "completed"
    },
    "tags": []
   },
   "outputs": [],
   "source": [
    "accepted_loans = pd.get_dummies(accepted_loans, columns=['sub_grade'], prefix='sub_grade', prefix_sep='_', drop_first=True)"
   ]
  },
  {
   "cell_type": "code",
   "execution_count": 44,
   "id": "8b62af5f",
   "metadata": {
    "execution": {
     "iopub.execute_input": "2023-05-25T04:30:00.319888Z",
     "iopub.status.busy": "2023-05-25T04:30:00.318911Z",
     "iopub.status.idle": "2023-05-25T04:30:01.100447Z",
     "shell.execute_reply": "2023-05-25T04:30:01.099112Z"
    },
    "papermill": {
     "duration": 0.813208,
     "end_time": "2023-05-25T04:30:01.102650",
     "exception": false,
     "start_time": "2023-05-25T04:30:00.289442",
     "status": "completed"
    },
    "tags": []
   },
   "outputs": [
    {
     "name": "stdout",
     "output_type": "stream",
     "text": [
      "Index(['home_ownership', 'verification_status', 'url', 'purpose', 'zip_code',\n",
      "       'addr_state', 'earliest_cr_line', 'initial_list_status',\n",
      "       'last_credit_pull_d', 'application_type', 'disbursement_method',\n",
      "       'debt_settlement_flag'],\n",
      "      dtype='object')\n",
      "12\n"
     ]
    }
   ],
   "source": [
    "categorical_columns = accepted_loans.select_dtypes(include='object').columns\n",
    "print(categorical_columns)\n",
    "print(len(categorical_columns))"
   ]
  },
  {
   "cell_type": "markdown",
   "id": "33e4fac9",
   "metadata": {
    "papermill": {
     "duration": 0.02832,
     "end_time": "2023-05-25T04:30:01.159686",
     "exception": false,
     "start_time": "2023-05-25T04:30:01.131366",
     "status": "completed"
    },
    "tags": []
   },
   "source": [
    "**Features 'verification_status', 'purpose', 'application_type', 'initial_list_status' and 'home_ownership'**"
   ]
  },
  {
   "cell_type": "code",
   "execution_count": 45,
   "id": "e35769c0",
   "metadata": {
    "execution": {
     "iopub.execute_input": "2023-05-25T04:30:01.217565Z",
     "iopub.status.busy": "2023-05-25T04:30:01.217194Z",
     "iopub.status.idle": "2023-05-25T04:30:01.635243Z",
     "shell.execute_reply": "2023-05-25T04:30:01.633212Z"
    },
    "papermill": {
     "duration": 0.449968,
     "end_time": "2023-05-25T04:30:01.637789",
     "exception": false,
     "start_time": "2023-05-25T04:30:01.187821",
     "status": "completed"
    },
    "tags": []
   },
   "outputs": [
    {
     "name": "stdout",
     "output_type": "stream",
     "text": [
      "['Not Verified' 'Source Verified' 'Verified']\n",
      "['debt_consolidation' 'small_business' 'home_improvement' 'major_purchase'\n",
      " 'credit_card' 'other' 'house' 'vacation' 'car' 'medical' 'moving'\n",
      " 'renewable_energy' 'wedding' 'educational']\n",
      "['Individual' 'Joint App']\n",
      "['w' 'f']\n",
      "['MORTGAGE' 'RENT' 'OWN' 'ANY' 'NONE' 'OTHER']\n"
     ]
    }
   ],
   "source": [
    "#For these columns, let's just create dummy variables, concatenate them with the original dataframe and drop original columns.\n",
    "dummies =['verification_status', 'purpose', 'application_type', 'initial_list_status','home_ownership']\n",
    "for dummy_var in dummies:\n",
    "    print(accepted_loans[dummy_var].unique())"
   ]
  },
  {
   "cell_type": "code",
   "execution_count": 46,
   "id": "ec0407d9",
   "metadata": {
    "execution": {
     "iopub.execute_input": "2023-05-25T04:30:01.707204Z",
     "iopub.status.busy": "2023-05-25T04:30:01.706726Z",
     "iopub.status.idle": "2023-05-25T04:30:09.226483Z",
     "shell.execute_reply": "2023-05-25T04:30:09.225485Z"
    },
    "papermill": {
     "duration": 7.559219,
     "end_time": "2023-05-25T04:30:09.229039",
     "exception": false,
     "start_time": "2023-05-25T04:30:01.669820",
     "status": "completed"
    },
    "tags": []
   },
   "outputs": [],
   "source": [
    "for dummy_var in dummies:\n",
    "  accepted_loans = pd.get_dummies(accepted_loans, prefix=dummy_var, columns=[dummy_var], drop_first=True)"
   ]
  },
  {
   "cell_type": "code",
   "execution_count": 47,
   "id": "825b0828",
   "metadata": {
    "execution": {
     "iopub.execute_input": "2023-05-25T04:30:09.288312Z",
     "iopub.status.busy": "2023-05-25T04:30:09.287939Z",
     "iopub.status.idle": "2023-05-25T04:30:09.779363Z",
     "shell.execute_reply": "2023-05-25T04:30:09.777879Z"
    },
    "papermill": {
     "duration": 0.523478,
     "end_time": "2023-05-25T04:30:09.781621",
     "exception": false,
     "start_time": "2023-05-25T04:30:09.258143",
     "status": "completed"
    },
    "tags": []
   },
   "outputs": [
    {
     "name": "stdout",
     "output_type": "stream",
     "text": [
      "Index(['url', 'zip_code', 'addr_state', 'earliest_cr_line',\n",
      "       'last_credit_pull_d', 'disbursement_method', 'debt_settlement_flag'],\n",
      "      dtype='object')\n",
      "7\n"
     ]
    }
   ],
   "source": [
    "categorical_columns = accepted_loans.select_dtypes(include='object').columns\n",
    "print(categorical_columns)\n",
    "print(len(categorical_columns))"
   ]
  },
  {
   "cell_type": "markdown",
   "id": "4de007af",
   "metadata": {
    "papermill": {
     "duration": 0.028233,
     "end_time": "2023-05-25T04:30:09.838381",
     "exception": false,
     "start_time": "2023-05-25T04:30:09.810148",
     "status": "completed"
    },
    "tags": []
   },
   "source": [
    "**Features 'url', 'last_credit_pull_d' and 'earliest_cr_line'**"
   ]
  },
  {
   "cell_type": "code",
   "execution_count": 48,
   "id": "f63b43f2",
   "metadata": {
    "execution": {
     "iopub.execute_input": "2023-05-25T04:30:09.896535Z",
     "iopub.status.busy": "2023-05-25T04:30:09.896193Z",
     "iopub.status.idle": "2023-05-25T04:30:11.271355Z",
     "shell.execute_reply": "2023-05-25T04:30:11.270267Z"
    },
    "papermill": {
     "duration": 1.407029,
     "end_time": "2023-05-25T04:30:11.273801",
     "exception": false,
     "start_time": "2023-05-25T04:30:09.866772",
     "status": "completed"
    },
    "tags": []
   },
   "outputs": [
    {
     "name": "stdout",
     "output_type": "stream",
     "text": [
      "https://lendingclub.com/browse/loanDetail.action?loan_id=68407277     1\n",
      "https://lendingclub.com/browse/loanDetail.action?loan_id=143395570    1\n",
      "https://lendingclub.com/browse/loanDetail.action?loan_id=143480412    1\n",
      "https://lendingclub.com/browse/loanDetail.action?loan_id=142972000    1\n",
      "https://lendingclub.com/browse/loanDetail.action?loan_id=143487081    1\n",
      "                                                                     ..\n",
      "https://lendingclub.com/browse/loanDetail.action?loan_id=83114087     1\n",
      "https://lendingclub.com/browse/loanDetail.action?loan_id=83162263     1\n",
      "https://lendingclub.com/browse/loanDetail.action?loan_id=81940285     1\n",
      "https://lendingclub.com/browse/loanDetail.action?loan_id=82020283     1\n",
      "https://lendingclub.com/browse/loanDetail.action?loan_id=88224441     1\n",
      "Name: url, Length: 1345310, dtype: int64\n"
     ]
    }
   ],
   "source": [
    "print(accepted_loans['url'].value_counts())"
   ]
  },
  {
   "cell_type": "code",
   "execution_count": 49,
   "id": "4edf1da7",
   "metadata": {
    "execution": {
     "iopub.execute_input": "2023-05-25T04:30:11.333164Z",
     "iopub.status.busy": "2023-05-25T04:30:11.332794Z",
     "iopub.status.idle": "2023-05-25T04:30:11.429555Z",
     "shell.execute_reply": "2023-05-25T04:30:11.428787Z"
    },
    "papermill": {
     "duration": 0.129048,
     "end_time": "2023-05-25T04:30:11.431838",
     "exception": false,
     "start_time": "2023-05-25T04:30:11.302790",
     "status": "completed"
    },
    "tags": []
   },
   "outputs": [
    {
     "name": "stdout",
     "output_type": "stream",
     "text": [
      "Mar-2019    470827\n",
      "Feb-2019     74850\n",
      "Jan-2019     61319\n",
      "Jul-2018     53543\n",
      "Oct-2016     50653\n",
      "             ...  \n",
      "May-2007         1\n",
      "Jun-2008         1\n",
      "Jul-2008         1\n",
      "Dec-2007         1\n",
      "Apr-2019         1\n",
      "Name: last_credit_pull_d, Length: 140, dtype: int64\n"
     ]
    }
   ],
   "source": [
    "print(accepted_loans['last_credit_pull_d'].value_counts())"
   ]
  },
  {
   "cell_type": "code",
   "execution_count": 50,
   "id": "54e207da",
   "metadata": {
    "execution": {
     "iopub.execute_input": "2023-05-25T04:30:11.493556Z",
     "iopub.status.busy": "2023-05-25T04:30:11.492637Z",
     "iopub.status.idle": "2023-05-25T04:30:11.586052Z",
     "shell.execute_reply": "2023-05-25T04:30:11.585027Z"
    },
    "papermill": {
     "duration": 0.12677,
     "end_time": "2023-05-25T04:30:11.588312",
     "exception": false,
     "start_time": "2023-05-25T04:30:11.461542",
     "status": "completed"
    },
    "tags": []
   },
   "outputs": [
    {
     "name": "stdout",
     "output_type": "stream",
     "text": [
      "739\n"
     ]
    }
   ],
   "source": [
    "print(len(accepted_loans['earliest_cr_line'].unique()))"
   ]
  },
  {
   "cell_type": "code",
   "execution_count": 51,
   "id": "f491b149",
   "metadata": {
    "execution": {
     "iopub.execute_input": "2023-05-25T04:30:11.649590Z",
     "iopub.status.busy": "2023-05-25T04:30:11.648383Z",
     "iopub.status.idle": "2023-05-25T04:30:11.941189Z",
     "shell.execute_reply": "2023-05-25T04:30:11.939746Z"
    },
    "papermill": {
     "duration": 0.326856,
     "end_time": "2023-05-25T04:30:11.944158",
     "exception": false,
     "start_time": "2023-05-25T04:30:11.617302",
     "status": "completed"
    },
    "tags": []
   },
   "outputs": [],
   "source": [
    "# Drop these features\n",
    "dropping_columns = ['url', 'last_credit_pull_d', 'earliest_cr_line']\n",
    "accepted_loans = accepted_loans.drop(columns= dropping_columns)"
   ]
  },
  {
   "cell_type": "code",
   "execution_count": 52,
   "id": "3f4d3dc0",
   "metadata": {
    "execution": {
     "iopub.execute_input": "2023-05-25T04:30:12.005049Z",
     "iopub.status.busy": "2023-05-25T04:30:12.004073Z",
     "iopub.status.idle": "2023-05-25T04:30:12.194405Z",
     "shell.execute_reply": "2023-05-25T04:30:12.193312Z"
    },
    "papermill": {
     "duration": 0.223202,
     "end_time": "2023-05-25T04:30:12.196965",
     "exception": false,
     "start_time": "2023-05-25T04:30:11.973763",
     "status": "completed"
    },
    "tags": []
   },
   "outputs": [
    {
     "name": "stdout",
     "output_type": "stream",
     "text": [
      "Index(['zip_code', 'addr_state', 'disbursement_method',\n",
      "       'debt_settlement_flag'],\n",
      "      dtype='object')\n",
      "4\n"
     ]
    }
   ],
   "source": [
    "categorical_columns = accepted_loans.select_dtypes(include='object').columns\n",
    "print(categorical_columns)\n",
    "print(len(categorical_columns))"
   ]
  },
  {
   "cell_type": "markdown",
   "id": "3d0bfd65",
   "metadata": {
    "papermill": {
     "duration": 0.02856,
     "end_time": "2023-05-25T04:30:12.254609",
     "exception": false,
     "start_time": "2023-05-25T04:30:12.226049",
     "status": "completed"
    },
    "tags": []
   },
   "source": [
    "# Features 'disbursement_method' and 'debt_settlement_flag'"
   ]
  },
  {
   "cell_type": "code",
   "execution_count": 53,
   "id": "ae2d765d",
   "metadata": {
    "execution": {
     "iopub.execute_input": "2023-05-25T04:30:12.314012Z",
     "iopub.status.busy": "2023-05-25T04:30:12.313609Z",
     "iopub.status.idle": "2023-05-25T04:30:13.426110Z",
     "shell.execute_reply": "2023-05-25T04:30:13.424997Z"
    },
    "papermill": {
     "duration": 1.145052,
     "end_time": "2023-05-25T04:30:13.428377",
     "exception": false,
     "start_time": "2023-05-25T04:30:12.283325",
     "status": "completed"
    },
    "tags": []
   },
   "outputs": [
    {
     "data": {
      "text/plain": [
       "<AxesSubplot: xlabel='debt_settlement_flag', ylabel='count'>"
      ]
     },
     "execution_count": 53,
     "metadata": {},
     "output_type": "execute_result"
    },
    {
     "data": {
      "image/png": "[encoded data removed]",
      "text/plain": [
       "<Figure size 1000x700 with 1 Axes>"
      ]
     },
     "metadata": {},
     "output_type": "display_data"
    }
   ],
   "source": [
    "plt.figure(figsize=(10, 7))\n",
    "sns.countplot(x=accepted_loans['debt_settlement_flag'], hue=accepted_loans['loan_paid'])"
   ]
  },
  {
   "cell_type": "code",
   "execution_count": 54,
   "id": "dff8298f",
   "metadata": {
    "execution": {
     "iopub.execute_input": "2023-05-25T04:30:13.488409Z",
     "iopub.status.busy": "2023-05-25T04:30:13.487580Z",
     "iopub.status.idle": "2023-05-25T04:30:14.590539Z",
     "shell.execute_reply": "2023-05-25T04:30:14.589497Z"
    },
    "papermill": {
     "duration": 1.135361,
     "end_time": "2023-05-25T04:30:14.592899",
     "exception": false,
     "start_time": "2023-05-25T04:30:13.457538",
     "status": "completed"
    },
    "tags": []
   },
   "outputs": [
    {
     "data": {
      "text/plain": [
       "<AxesSubplot: xlabel='disbursement_method', ylabel='count'>"
      ]
     },
     "execution_count": 54,
     "metadata": {},
     "output_type": "execute_result"
    },
    {
     "data": {
      "image/png": "[encoded data removed]",
      "text/plain": [
       "<Figure size 1000x700 with 1 Axes>"
      ]
     },
     "metadata": {},
     "output_type": "display_data"
    }
   ],
   "source": [
    "plt.figure(figsize=(10, 7))\n",
    "sns.countplot(x=accepted_loans['disbursement_method'], hue=accepted_loans['loan_paid'])"
   ]
  },
  {
   "cell_type": "code",
   "execution_count": 55,
   "id": "348db5b5",
   "metadata": {
    "execution": {
     "iopub.execute_input": "2023-05-25T04:30:14.657333Z",
     "iopub.status.busy": "2023-05-25T04:30:14.656827Z",
     "iopub.status.idle": "2023-05-25T04:30:14.815666Z",
     "shell.execute_reply": "2023-05-25T04:30:14.814370Z"
    },
    "papermill": {
     "duration": 0.194517,
     "end_time": "2023-05-25T04:30:14.818063",
     "exception": false,
     "start_time": "2023-05-25T04:30:14.623546",
     "status": "completed"
    },
    "tags": []
   },
   "outputs": [
    {
     "name": "stdout",
     "output_type": "stream",
     "text": [
      "Cash         1338410\n",
      "DirectPay       6900\n",
      "Name: disbursement_method, dtype: int64\n",
      "N    1312034\n",
      "Y      33276\n",
      "Name: debt_settlement_flag, dtype: int64\n"
     ]
    }
   ],
   "source": [
    "print(accepted_loans['disbursement_method'].value_counts())\n",
    "print(accepted_loans['debt_settlement_flag'].value_counts())"
   ]
  },
  {
   "cell_type": "markdown",
   "id": "b45267cd",
   "metadata": {
    "papermill": {
     "duration": 0.029641,
     "end_time": "2023-05-25T04:30:14.878199",
     "exception": false,
     "start_time": "2023-05-25T04:30:14.848558",
     "status": "completed"
    },
    "tags": []
   },
   "source": [
    "It seem that these features can cause data leakage, let's drop these features first"
   ]
  },
  {
   "cell_type": "code",
   "execution_count": 56,
   "id": "03ad0e5c",
   "metadata": {
    "execution": {
     "iopub.execute_input": "2023-05-25T04:30:14.939327Z",
     "iopub.status.busy": "2023-05-25T04:30:14.938699Z",
     "iopub.status.idle": "2023-05-25T04:30:15.188362Z",
     "shell.execute_reply": "2023-05-25T04:30:15.187173Z"
    },
    "papermill": {
     "duration": 0.282955,
     "end_time": "2023-05-25T04:30:15.190951",
     "exception": false,
     "start_time": "2023-05-25T04:30:14.907996",
     "status": "completed"
    },
    "tags": []
   },
   "outputs": [],
   "source": [
    "dropping_columns = ['disbursement_method', 'debt_settlement_flag']\n",
    "accepted_loans = accepted_loans.drop(columns=dropping_columns)"
   ]
  },
  {
   "cell_type": "code",
   "execution_count": 57,
   "id": "3e53d663",
   "metadata": {
    "execution": {
     "iopub.execute_input": "2023-05-25T04:30:15.252207Z",
     "iopub.status.busy": "2023-05-25T04:30:15.251823Z",
     "iopub.status.idle": "2023-05-25T04:30:15.280652Z",
     "shell.execute_reply": "2023-05-25T04:30:15.279628Z"
    },
    "papermill": {
     "duration": 0.061822,
     "end_time": "2023-05-25T04:30:15.282881",
     "exception": false,
     "start_time": "2023-05-25T04:30:15.221059",
     "status": "completed"
    },
    "tags": []
   },
   "outputs": [
    {
     "name": "stdout",
     "output_type": "stream",
     "text": [
      "Index(['zip_code', 'addr_state'], dtype='object')\n",
      "2\n"
     ]
    }
   ],
   "source": [
    "categorical_columns = accepted_loans.select_dtypes(include='object').columns\n",
    "print(categorical_columns)\n",
    "print(len(categorical_columns))"
   ]
  },
  {
   "cell_type": "markdown",
   "id": "4638c394",
   "metadata": {
    "papermill": {
     "duration": 0.029063,
     "end_time": "2023-05-25T04:30:15.341555",
     "exception": false,
     "start_time": "2023-05-25T04:30:15.312492",
     "status": "completed"
    },
    "tags": []
   },
   "source": [
    "**Features 'zip_code' and 'addr_state'**"
   ]
  },
  {
   "cell_type": "code",
   "execution_count": 58,
   "id": "934d0fcc",
   "metadata": {
    "execution": {
     "iopub.execute_input": "2023-05-25T04:30:15.402265Z",
     "iopub.status.busy": "2023-05-25T04:30:15.401884Z",
     "iopub.status.idle": "2023-05-25T04:30:15.514706Z",
     "shell.execute_reply": "2023-05-25T04:30:15.513614Z"
    },
    "papermill": {
     "duration": 0.145474,
     "end_time": "2023-05-25T04:30:15.516557",
     "exception": false,
     "start_time": "2023-05-25T04:30:15.371083",
     "status": "completed"
    },
    "tags": []
   },
   "outputs": [
    {
     "name": "stdout",
     "output_type": "stream",
     "text": [
      "945xx    15005\n",
      "750xx    14474\n",
      "112xx    13829\n",
      "606xx    12433\n",
      "300xx    12124\n",
      "         ...  \n",
      "095xx        1\n",
      "009xx        1\n",
      "872xx        1\n",
      "513xx        1\n",
      "525xx        1\n",
      "Name: zip_code, Length: 943, dtype: int64\n"
     ]
    }
   ],
   "source": [
    "print(accepted_loans['zip_code'].value_counts())"
   ]
  },
  {
   "cell_type": "code",
   "execution_count": 59,
   "id": "5dda5d4a",
   "metadata": {
    "execution": {
     "iopub.execute_input": "2023-05-25T04:30:15.578039Z",
     "iopub.status.busy": "2023-05-25T04:30:15.577636Z",
     "iopub.status.idle": "2023-05-25T04:30:15.802510Z",
     "shell.execute_reply": "2023-05-25T04:30:15.801372Z"
    },
    "papermill": {
     "duration": 0.258812,
     "end_time": "2023-05-25T04:30:15.805220",
     "exception": false,
     "start_time": "2023-05-25T04:30:15.546408",
     "status": "completed"
    },
    "tags": []
   },
   "outputs": [],
   "source": [
    "# Drop 'zip_code' feature\n",
    "accepted_loans = accepted_loans.drop(columns=['zip_code'])"
   ]
  },
  {
   "cell_type": "code",
   "execution_count": 60,
   "id": "e56e0bc2",
   "metadata": {
    "execution": {
     "iopub.execute_input": "2023-05-25T04:30:15.867465Z",
     "iopub.status.busy": "2023-05-25T04:30:15.866640Z",
     "iopub.status.idle": "2023-05-25T04:30:16.019971Z",
     "shell.execute_reply": "2023-05-25T04:30:16.018509Z"
    },
    "papermill": {
     "duration": 0.186946,
     "end_time": "2023-05-25T04:30:16.022385",
     "exception": false,
     "start_time": "2023-05-25T04:30:15.835439",
     "status": "completed"
    },
    "tags": []
   },
   "outputs": [
    {
     "name": "stdout",
     "output_type": "stream",
     "text": [
      "['PA' 'SD' 'IL' 'GA' 'MN' 'SC' 'RI' 'NC' 'CA' 'VA' 'AZ' 'IN' 'MD' 'NY'\n",
      " 'TX' 'KS' 'NM' 'AL' 'WA' 'OH' 'LA' 'FL' 'CO' 'MI' 'MO' 'DC' 'MA' 'WI'\n",
      " 'HI' 'VT' 'NJ' 'DE' 'TN' 'NH' 'NE' 'OR' 'CT' 'AR' 'NV' 'WV' 'MT' 'WY'\n",
      " 'OK' 'KY' 'MS' 'UT' 'ND' 'ME' 'AK' 'ID' 'IA']\n",
      "51\n"
     ]
    }
   ],
   "source": [
    "print(accepted_loans['addr_state'].unique())\n",
    "print(len(accepted_loans['addr_state'].unique()))"
   ]
  },
  {
   "cell_type": "code",
   "execution_count": 61,
   "id": "4375a6d4",
   "metadata": {
    "execution": {
     "iopub.execute_input": "2023-05-25T04:30:16.084925Z",
     "iopub.status.busy": "2023-05-25T04:30:16.084525Z",
     "iopub.status.idle": "2023-05-25T04:30:16.294273Z",
     "shell.execute_reply": "2023-05-25T04:30:16.293370Z"
    },
    "papermill": {
     "duration": 0.244007,
     "end_time": "2023-05-25T04:30:16.296807",
     "exception": false,
     "start_time": "2023-05-25T04:30:16.052800",
     "status": "completed"
    },
    "tags": []
   },
   "outputs": [],
   "source": [
    "# Drop 'addr_state' feature\n",
    "accepted_loans.drop('addr_state', inplace=True, axis=1)"
   ]
  },
  {
   "cell_type": "code",
   "execution_count": 62,
   "id": "454e1c85",
   "metadata": {
    "execution": {
     "iopub.execute_input": "2023-05-25T04:30:16.358066Z",
     "iopub.status.busy": "2023-05-25T04:30:16.357704Z",
     "iopub.status.idle": "2023-05-25T04:30:16.363049Z",
     "shell.execute_reply": "2023-05-25T04:30:16.362262Z"
    },
    "papermill": {
     "duration": 0.03835,
     "end_time": "2023-05-25T04:30:16.365131",
     "exception": false,
     "start_time": "2023-05-25T04:30:16.326781",
     "status": "completed"
    },
    "tags": []
   },
   "outputs": [
    {
     "name": "stdout",
     "output_type": "stream",
     "text": [
      "Index([], dtype='object')\n",
      "0\n"
     ]
    }
   ],
   "source": [
    "categorical_columns = accepted_loans.select_dtypes(include='object').columns\n",
    "print(categorical_columns)\n",
    "print(len(categorical_columns))"
   ]
  },
  {
   "cell_type": "code",
   "execution_count": 63,
   "id": "20426d8e",
   "metadata": {
    "execution": {
     "iopub.execute_input": "2023-05-25T04:30:16.426135Z",
     "iopub.status.busy": "2023-05-25T04:30:16.425722Z",
     "iopub.status.idle": "2023-05-25T04:30:16.575798Z",
     "shell.execute_reply": "2023-05-25T04:30:16.574727Z"
    },
    "papermill": {
     "duration": 0.183327,
     "end_time": "2023-05-25T04:30:16.578186",
     "exception": false,
     "start_time": "2023-05-25T04:30:16.394859",
     "status": "completed"
    },
    "tags": []
   },
   "outputs": [
    {
     "name": "stdout",
     "output_type": "stream",
     "text": [
      "<class 'pandas.core.frame.DataFrame'>\n",
      "Int64Index: 1345310 entries, 0 to 2260697\n",
      "Data columns (total 78 columns):\n",
      " #   Column                               Non-Null Count    Dtype  \n",
      "---  ------                               --------------    -----  \n",
      " 0   loan_amnt                            1345310 non-null  float64\n",
      " 1   term                                 1345310 non-null  int64  \n",
      " 2   int_rate                             1345310 non-null  float64\n",
      " 3   installment                          1345310 non-null  float64\n",
      " 4   annual_inc                           1345310 non-null  float64\n",
      " 5   dti                                  1344936 non-null  float64\n",
      " 6   delinq_2yrs                          1345310 non-null  float64\n",
      " 7   fico_range_high                      1345310 non-null  float64\n",
      " 8   inq_last_6mths                       1345309 non-null  float64\n",
      " 9   open_acc                             1345310 non-null  float64\n",
      " 10  pub_rec                              1345310 non-null  float64\n",
      " 11  revol_bal                            1345310 non-null  float64\n",
      " 12  revol_util                           1344453 non-null  float64\n",
      " 13  total_acc                            1345310 non-null  float64\n",
      " 14  last_pymnt_amnt                      1345310 non-null  float64\n",
      " 15  collections_12_mths_ex_med           1345254 non-null  float64\n",
      " 16  acc_now_delinq                       1345310 non-null  float64\n",
      " 17  chargeoff_within_12_mths             1345254 non-null  float64\n",
      " 18  delinq_amnt                          1345310 non-null  float64\n",
      " 19  pub_rec_bankruptcies                 1344613 non-null  float64\n",
      " 20  tax_liens                            1345271 non-null  float64\n",
      " 21  loan_paid                            1345310 non-null  int64  \n",
      " 22  sub_grade_A2                         1345310 non-null  uint8  \n",
      " 23  sub_grade_A3                         1345310 non-null  uint8  \n",
      " 24  sub_grade_A4                         1345310 non-null  uint8  \n",
      " 25  sub_grade_A5                         1345310 non-null  uint8  \n",
      " 26  sub_grade_B1                         1345310 non-null  uint8  \n",
      " 27  sub_grade_B2                         1345310 non-null  uint8  \n",
      " 28  sub_grade_B3                         1345310 non-null  uint8  \n",
      " 29  sub_grade_B4                         1345310 non-null  uint8  \n",
      " 30  sub_grade_B5                         1345310 non-null  uint8  \n",
      " 31  sub_grade_C1                         1345310 non-null  uint8  \n",
      " 32  sub_grade_C2                         1345310 non-null  uint8  \n",
      " 33  sub_grade_C3                         1345310 non-null  uint8  \n",
      " 34  sub_grade_C4                         1345310 non-null  uint8  \n",
      " 35  sub_grade_C5                         1345310 non-null  uint8  \n",
      " 36  sub_grade_D1                         1345310 non-null  uint8  \n",
      " 37  sub_grade_D2                         1345310 non-null  uint8  \n",
      " 38  sub_grade_D3                         1345310 non-null  uint8  \n",
      " 39  sub_grade_D4                         1345310 non-null  uint8  \n",
      " 40  sub_grade_D5                         1345310 non-null  uint8  \n",
      " 41  sub_grade_E1                         1345310 non-null  uint8  \n",
      " 42  sub_grade_E2                         1345310 non-null  uint8  \n",
      " 43  sub_grade_E3                         1345310 non-null  uint8  \n",
      " 44  sub_grade_E4                         1345310 non-null  uint8  \n",
      " 45  sub_grade_E5                         1345310 non-null  uint8  \n",
      " 46  sub_grade_F1                         1345310 non-null  uint8  \n",
      " 47  sub_grade_F2                         1345310 non-null  uint8  \n",
      " 48  sub_grade_F3                         1345310 non-null  uint8  \n",
      " 49  sub_grade_F4                         1345310 non-null  uint8  \n",
      " 50  sub_grade_F5                         1345310 non-null  uint8  \n",
      " 51  sub_grade_G1                         1345310 non-null  uint8  \n",
      " 52  sub_grade_G2                         1345310 non-null  uint8  \n",
      " 53  sub_grade_G3                         1345310 non-null  uint8  \n",
      " 54  sub_grade_G4                         1345310 non-null  uint8  \n",
      " 55  sub_grade_G5                         1345310 non-null  uint8  \n",
      " 56  verification_status_Source Verified  1345310 non-null  uint8  \n",
      " 57  verification_status_Verified         1345310 non-null  uint8  \n",
      " 58  purpose_credit_card                  1345310 non-null  uint8  \n",
      " 59  purpose_debt_consolidation           1345310 non-null  uint8  \n",
      " 60  purpose_educational                  1345310 non-null  uint8  \n",
      " 61  purpose_home_improvement             1345310 non-null  uint8  \n",
      " 62  purpose_house                        1345310 non-null  uint8  \n",
      " 63  purpose_major_purchase               1345310 non-null  uint8  \n",
      " 64  purpose_medical                      1345310 non-null  uint8  \n",
      " 65  purpose_moving                       1345310 non-null  uint8  \n",
      " 66  purpose_other                        1345310 non-null  uint8  \n",
      " 67  purpose_renewable_energy             1345310 non-null  uint8  \n",
      " 68  purpose_small_business               1345310 non-null  uint8  \n",
      " 69  purpose_vacation                     1345310 non-null  uint8  \n",
      " 70  purpose_wedding                      1345310 non-null  uint8  \n",
      " 71  application_type_Joint App           1345310 non-null  uint8  \n",
      " 72  initial_list_status_w                1345310 non-null  uint8  \n",
      " 73  home_ownership_MORTGAGE              1345310 non-null  uint8  \n",
      " 74  home_ownership_NONE                  1345310 non-null  uint8  \n",
      " 75  home_ownership_OTHER                 1345310 non-null  uint8  \n",
      " 76  home_ownership_OWN                   1345310 non-null  uint8  \n",
      " 77  home_ownership_RENT                  1345310 non-null  uint8  \n",
      "dtypes: float64(20), int64(2), uint8(56)\n",
      "memory usage: 307.9 MB\n"
     ]
    }
   ],
   "source": [
    "accepted_loans.info()"
   ]
  },
  {
   "cell_type": "markdown",
   "id": "3c57e810",
   "metadata": {
    "papermill": {
     "duration": 0.029196,
     "end_time": "2023-05-25T04:30:16.637215",
     "exception": false,
     "start_time": "2023-05-25T04:30:16.608019",
     "status": "completed"
    },
    "tags": []
   },
   "source": [
    "# Handling missing data"
   ]
  },
  {
   "cell_type": "code",
   "execution_count": 64,
   "id": "b2eaaad5",
   "metadata": {
    "execution": {
     "iopub.execute_input": "2023-05-25T04:30:16.698026Z",
     "iopub.status.busy": "2023-05-25T04:30:16.697637Z",
     "iopub.status.idle": "2023-05-25T04:30:16.813763Z",
     "shell.execute_reply": "2023-05-25T04:30:16.812727Z"
    },
    "papermill": {
     "duration": 0.149251,
     "end_time": "2023-05-25T04:30:16.816018",
     "exception": false,
     "start_time": "2023-05-25T04:30:16.666767",
     "status": "completed"
    },
    "tags": []
   },
   "outputs": [
    {
     "data": {
      "text/plain": [
       "revol_util                             0.063703\n",
       "pub_rec_bankruptcies                   0.051810\n",
       "dti                                    0.027800\n",
       "chargeoff_within_12_mths               0.004163\n",
       "collections_12_mths_ex_med             0.004163\n",
       "tax_liens                              0.002899\n",
       "inq_last_6mths                         0.000074\n",
       "sub_grade_G3                           0.000000\n",
       "purpose_credit_card                    0.000000\n",
       "verification_status_Verified           0.000000\n",
       "verification_status_Source Verified    0.000000\n",
       "sub_grade_G5                           0.000000\n",
       "sub_grade_G4                           0.000000\n",
       "loan_amnt                              0.000000\n",
       "purpose_educational                    0.000000\n",
       "sub_grade_G2                           0.000000\n",
       "sub_grade_G1                           0.000000\n",
       "sub_grade_F5                           0.000000\n",
       "sub_grade_F4                           0.000000\n",
       "sub_grade_F3                           0.000000\n",
       "dtype: float64"
      ]
     },
     "execution_count": 64,
     "metadata": {},
     "output_type": "execute_result"
    }
   ],
   "source": [
    "(accepted_loans.isnull().sum() / len(accepted_loans) * 100).sort_values(ascending=False).head(20)"
   ]
  },
  {
   "cell_type": "code",
   "execution_count": 65,
   "id": "1c7ddea5",
   "metadata": {
    "execution": {
     "iopub.execute_input": "2023-05-25T04:30:16.879903Z",
     "iopub.status.busy": "2023-05-25T04:30:16.879495Z",
     "iopub.status.idle": "2023-05-25T04:30:17.845168Z",
     "shell.execute_reply": "2023-05-25T04:30:17.843885Z"
    },
    "papermill": {
     "duration": 0.999857,
     "end_time": "2023-05-25T04:30:17.847498",
     "exception": false,
     "start_time": "2023-05-25T04:30:16.847641",
     "status": "completed"
    },
    "tags": []
   },
   "outputs": [],
   "source": [
    "#There are 7 features having missing values but all of them account for less than 0.1% -> Let's drop any rows with missing values\n",
    "accepted_loans = accepted_loans.dropna()"
   ]
  },
  {
   "cell_type": "markdown",
   "id": "7d32c2dc",
   "metadata": {
    "papermill": {
     "duration": 0.031059,
     "end_time": "2023-05-25T04:30:17.908929",
     "exception": false,
     "start_time": "2023-05-25T04:30:17.877870",
     "status": "completed"
    },
    "tags": []
   },
   "source": [
    "# Save data"
   ]
  },
  {
   "cell_type": "code",
   "execution_count": 66,
   "id": "2bea2e23",
   "metadata": {
    "execution": {
     "iopub.execute_input": "2023-05-25T04:30:17.970755Z",
     "iopub.status.busy": "2023-05-25T04:30:17.970334Z",
     "iopub.status.idle": "2023-05-25T04:30:47.086987Z",
     "shell.execute_reply": "2023-05-25T04:30:47.085903Z"
    },
    "papermill": {
     "duration": 29.150895,
     "end_time": "2023-05-25T04:30:47.089577",
     "exception": false,
     "start_time": "2023-05-25T04:30:17.938682",
     "status": "completed"
    },
    "tags": []
   },
   "outputs": [],
   "source": [
    "accepted_loans.to_csv('/kaggle/working/elite_data.csv', index=False)"
   ]
  }
 ],
 "metadata": {
  "kernelspec": {
   "display_name": "Python 3",
   "language": "python",
   "name": "python3"
  },
  "language_info": {
   "codemirror_mode": {
    "name": "ipython",
    "version": 3
   },
   "file_extension": ".py",
   "mimetype": "text/x-python",
   "name": "python",
   "nbconvert_exporter": "python",
   "pygments_lexer": "ipython3",
   "version": "3.10.10"
  },
  "papermill": {
   "default_parameters": {},
   "duration": 234.129108,
   "end_time": "2023-05-25T04:30:50.185311",
   "environment_variables": {},
   "exception": null,
   "input_path": "__notebook__.ipynb",
   "output_path": "__notebook__.ipynb",
   "parameters": {},
   "start_time": "2023-05-25T04:26:56.056203",
   "version": "2.4.0"
  }
 },
 "nbformat": 4,
 "nbformat_minor": 5
}
